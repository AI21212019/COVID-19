{
 "cells": [
  {
   "cell_type": "code",
   "execution_count": 136,
   "metadata": {},
   "outputs": [],
   "source": [
    "import pandas as pd\n",
    "import numpy as np\n",
    "from datetime import datetime,timedelta\n",
    "import geopandas as gpd\n",
    "pd.options.display.max_columns=100"
   ]
  },
  {
   "cell_type": "code",
   "execution_count": 137,
   "metadata": {},
   "outputs": [],
   "source": [
    "#data from github jhu,import the lastest data from timeseries\n",
    "df_Counties_confirmed=pd.read_csv(\"https://raw.githubusercontent.com/CSSEGISandData/COVID-19/master/csse_covid_19_data/csse_covid_19_time_series/time_series_covid19_confirmed_US.csv\")\n",
    "df_Counties_deaths=pd.read_csv(\"https://raw.githubusercontent.com/CSSEGISandData/COVID-19/master/csse_covid_19_data/csse_covid_19_time_series/time_series_covid19_deaths_US.csv\")\n"
   ]
  },
  {
   "cell_type": "code",
   "execution_count": 138,
   "metadata": {},
   "outputs": [
    {
     "name": "stdout",
     "output_type": "stream",
     "text": [
      "7/22/20\n",
      "7/22/20\n"
     ]
    }
   ],
   "source": [
    "#the lastest date, printing both just make sure they have the data are updated at the same pace\n",
    "tdst=df_Counties_confirmed.columns[-1]\n",
    "print (tdst)\n",
    "tdst1=df_Counties_deaths.columns[-1]\n",
    "print (tdst1)"
   ]
  },
  {
   "cell_type": "code",
   "execution_count": 139,
   "metadata": {},
   "outputs": [],
   "source": [
    "# Exclude military and extra data added to the end\n",
    "df_Counties_confirmed=df_Counties_confirmed.iloc[:3251]\n",
    "df_Counties_deaths=df_Counties_deaths.iloc[:3251]\n",
    "#df_Counties_confirmed.iloc[-2:]"
   ]
  },
  {
   "cell_type": "code",
   "execution_count": 140,
   "metadata": {
    "scrolled": true
   },
   "outputs": [],
   "source": [
    "Day14Series=[]\n",
    "for i in range(1,15):\n",
    "    #print (i)\n",
    "    day=df_Counties_confirmed.columns[(i-16)]\n",
    "    Day14Series.append(day)\n",
    "    \n",
    "len(Day14Series)\n",
    "Day14Series.extend([tdst,'FIPS', 'Admin2','Province_State','Combined_Key'])\n",
    "df_Counties_confirmed=df_Counties_confirmed[Day14Series]"
   ]
  },
  {
   "cell_type": "code",
   "execution_count": 141,
   "metadata": {},
   "outputs": [],
   "source": [
    "# Replace data with NY data\n",
    "df_NY_confirmed=pd.read_csv(r'C:\\Work_GovEx\\COVID-19\\Daily Data\\NY Boroughs_Confirmed.csv')\n",
    "df_NY_deaths=pd.read_csv(r'C:\\Work_GovEx\\COVID-19\\Daily Data\\NY Boroughs_Deaths.csv')\n",
    "#skip the first column\n",
    "df_NY_confirmed=df_NY_confirmed.iloc[:,1:]\n",
    "df_NY_deaths=df_NY_deaths.iloc[:,1:]\n",
    "#import NY data https://github.com/nychealth/coronavirus-data/blob/master/by-boro.csv\n",
    "df_NY_new=pd.read_csv(\"https://raw.githubusercontent.com/nychealth/coronavirus-data/master/by-boro.csv\",skipfooter=1,engine='python')"
   ]
  },
  {
   "cell_type": "code",
   "execution_count": 142,
   "metadata": {},
   "outputs": [],
   "source": [
    "if tdst == df_NY_confirmed.columns[-1]:\n",
    "    print ('not updated yet')\n",
    "   # new_date='{dt.month}/{dt.day}/{dt:%y}'.format(dt = datetime.now())\n",
    "   # new_date='{dt.month}/{dt.day}/{dt:%y}'.format(dt = datetime.now()-timedelta(1)\n",
    "    #df_NY_confirmed[new_date]=df_NY_new['CASE_COUNT']\n",
    "    #df_NY_deaths[new_date]=df_NY_new['DEATH_COUNT']\n",
    "else:\n",
    "    df_NY_confirmed[tdst]=df_NY_new['CASE_COUNT']\n",
    "    df_NY_deaths[tdst]=df_NY_new['DEATH_COUNT']"
   ]
  },
  {
   "cell_type": "code",
   "execution_count": 143,
   "metadata": {},
   "outputs": [
    {
     "name": "stdout",
     "output_type": "stream",
     "text": [
      "7/8/20\n",
      "7/9/20\n",
      "7/10/20\n",
      "7/11/20\n",
      "7/12/20\n",
      "7/13/20\n",
      "7/14/20\n",
      "7/15/20\n",
      "7/16/20\n",
      "7/17/20\n",
      "7/18/20\n",
      "7/19/20\n",
      "7/20/20\n",
      "7/21/20\n",
      "7/22/20\n"
     ]
    }
   ],
   "source": [
    "#15 days time-series\n",
    "for days in df_Counties_confirmed.columns[:15]:\n",
    "    print (days)\n",
    "    df_Counties_confirmed.loc[df_Counties_confirmed.FIPS==df_NY_confirmed.iloc[0,0],days]=df_NY_confirmed.loc[0][days]\n",
    "    df_Counties_confirmed.loc[df_Counties_confirmed.FIPS==df_NY_confirmed.iloc[1,0],days]=df_NY_confirmed.loc[1][days]\n",
    "    df_Counties_confirmed.loc[df_Counties_confirmed.FIPS==df_NY_confirmed.iloc[2,0],days]=df_NY_confirmed.loc[2][days]\n",
    "    df_Counties_confirmed.loc[df_Counties_confirmed.FIPS==df_NY_confirmed.iloc[3,0],days]=df_NY_confirmed.loc[3][days]\n",
    "    df_Counties_confirmed.loc[df_Counties_confirmed.FIPS==df_NY_confirmed.iloc[4,0],days]=df_NY_confirmed.loc[4][days]\n"
   ]
  },
  {
   "cell_type": "code",
   "execution_count": 144,
   "metadata": {},
   "outputs": [],
   "source": [
    "#calcualte new cases for 14 days\n",
    "df_Counties_confirmed['NewCaseDay01']=df_Counties_confirmed.iloc[:,1]-df_Counties_confirmed.iloc[:,0]\n",
    "df_Counties_confirmed['NewCaseDay02']=df_Counties_confirmed.iloc[:,2]-df_Counties_confirmed.iloc[:,1]\n",
    "df_Counties_confirmed['NewCaseDay03']=df_Counties_confirmed.iloc[:,3]-df_Counties_confirmed.iloc[:,2]\n",
    "df_Counties_confirmed['NewCaseDay04']=df_Counties_confirmed.iloc[:,4]-df_Counties_confirmed.iloc[:,3]\n",
    "df_Counties_confirmed['NewCaseDay05']=df_Counties_confirmed.iloc[:,5]-df_Counties_confirmed.iloc[:,4]\n",
    "df_Counties_confirmed['NewCaseDay06']=df_Counties_confirmed.iloc[:,6]-df_Counties_confirmed.iloc[:,5]\n",
    "df_Counties_confirmed['NewCaseDay07']=df_Counties_confirmed.iloc[:,7]-df_Counties_confirmed.iloc[:,6]\n",
    "df_Counties_confirmed['NewCaseDay08']=df_Counties_confirmed.iloc[:,8]-df_Counties_confirmed.iloc[:,7]\n",
    "df_Counties_confirmed['NewCaseDay09']=df_Counties_confirmed.iloc[:,9]-df_Counties_confirmed.iloc[:,8]\n",
    "df_Counties_confirmed['NewCaseDay10']=df_Counties_confirmed.iloc[:,10]-df_Counties_confirmed.iloc[:,9]\n",
    "df_Counties_confirmed['NewCaseDay11']=df_Counties_confirmed.iloc[:,11]-df_Counties_confirmed.iloc[:,10]\n",
    "df_Counties_confirmed['NewCaseDay12']=df_Counties_confirmed.iloc[:,12]-df_Counties_confirmed.iloc[:,11]\n",
    "df_Counties_confirmed['NewCaseDay13']=df_Counties_confirmed.iloc[:,13]-df_Counties_confirmed.iloc[:,12]\n",
    "df_Counties_confirmed['NewCases']=df_Counties_confirmed.iloc[:,14]-df_Counties_confirmed.iloc[:,13]"
   ]
  },
  {
   "cell_type": "code",
   "execution_count": 145,
   "metadata": {},
   "outputs": [],
   "source": [
    "#clean confirmed file\n",
    "#df_Counties_confirmed.columns[-19:]\n",
    "df_Counties_confirmed=df_Counties_confirmed[df_Counties_confirmed.columns[-19:]]"
   ]
  },
  {
   "cell_type": "code",
   "execution_count": 146,
   "metadata": {},
   "outputs": [],
   "source": [
    "#calculate new deaths\n",
    "pre_day=df_Counties_deaths.columns[-2]\n",
    "df_Counties_deaths=df_Counties_deaths[[pre_day,tdst,'FIPS']]"
   ]
  },
  {
   "cell_type": "code",
   "execution_count": 147,
   "metadata": {},
   "outputs": [
    {
     "name": "stdout",
     "output_type": "stream",
     "text": [
      "7/21/20\n",
      "7/22/20\n"
     ]
    }
   ],
   "source": [
    "\n",
    "for days in df_Counties_deaths.columns[:2]:\n",
    "    print (days)\n",
    "    df_Counties_deaths.loc[df_Counties_deaths.FIPS==df_NY_deaths.iloc[0,0],days]=df_NY_deaths.loc[0][days]\n",
    "    df_Counties_deaths.loc[df_Counties_deaths.FIPS==df_NY_deaths.iloc[1,0],days]=df_NY_deaths.loc[1][days]\n",
    "    df_Counties_deaths.loc[df_Counties_deaths.FIPS==df_NY_deaths.iloc[2,0],days]=df_NY_deaths.loc[2][days]\n",
    "    df_Counties_deaths.loc[df_Counties_deaths.FIPS==df_NY_deaths.iloc[3,0],days]=df_NY_deaths.loc[3][days]\n",
    "    df_Counties_deaths.loc[df_Counties_deaths.FIPS==df_NY_deaths.iloc[4,0],days]=df_NY_deaths.loc[4][days]"
   ]
  },
  {
   "cell_type": "code",
   "execution_count": 148,
   "metadata": {},
   "outputs": [],
   "source": [
    "df_Counties_deaths['NewDeaths']=df_Counties_deaths.iloc[:,1]-df_Counties_deaths.iloc[:,0]\n",
    "df_Counties_deaths.drop(columns={pre_day},inplace=True)"
   ]
  },
  {
   "cell_type": "code",
   "execution_count": 149,
   "metadata": {},
   "outputs": [],
   "source": [
    "#tdst=df_Counties_confirmed.columns[-1]\n",
    "\n",
    "df_Counties=pd.merge(df_Counties_confirmed,df_Counties_deaths,how='left',on='FIPS',suffixes=('_confirmed','_deaths'))\n",
    "#df_Counties.head(2)\n",
    "df_Counties.rename(columns={tdst+'_confirmed':'Confirmed',tdst+'_deaths':'Deaths'},inplace=True) "
   ]
  },
  {
   "cell_type": "code",
   "execution_count": 150,
   "metadata": {},
   "outputs": [
    {
     "name": "stderr",
     "output_type": "stream",
     "text": [
      "C:\\Users\\xzhou56\\anaconda3\\lib\\site-packages\\ipykernel_launcher.py:6: SettingWithCopyWarning: \n",
      "A value is trying to be set on a copy of a slice from a DataFrame.\n",
      "Try using .loc[row_indexer,col_indexer] = value instead\n",
      "\n",
      "See the caveats in the documentation: http://pandas.pydata.org/pandas-docs/stable/user_guide/indexing.html#returning-a-view-versus-a-copy\n",
      "  \n",
      "C:\\Users\\xzhou56\\anaconda3\\lib\\site-packages\\ipykernel_launcher.py:7: SettingWithCopyWarning: \n",
      "A value is trying to be set on a copy of a slice from a DataFrame.\n",
      "Try using .loc[row_indexer,col_indexer] = value instead\n",
      "\n",
      "See the caveats in the documentation: http://pandas.pydata.org/pandas-docs/stable/user_guide/indexing.html#returning-a-view-versus-a-copy\n",
      "  import sys\n",
      "C:\\Users\\xzhou56\\anaconda3\\lib\\site-packages\\ipykernel_launcher.py:8: SettingWithCopyWarning: \n",
      "A value is trying to be set on a copy of a slice from a DataFrame.\n",
      "Try using .loc[row_indexer,col_indexer] = value instead\n",
      "\n",
      "See the caveats in the documentation: http://pandas.pydata.org/pandas-docs/stable/user_guide/indexing.html#returning-a-view-versus-a-copy\n",
      "  \n",
      "C:\\Users\\xzhou56\\anaconda3\\lib\\site-packages\\ipykernel_launcher.py:9: SettingWithCopyWarning: \n",
      "A value is trying to be set on a copy of a slice from a DataFrame.\n",
      "Try using .loc[row_indexer,col_indexer] = value instead\n",
      "\n",
      "See the caveats in the documentation: http://pandas.pydata.org/pandas-docs/stable/user_guide/indexing.html#returning-a-view-versus-a-copy\n",
      "  if __name__ == '__main__':\n",
      "C:\\Users\\xzhou56\\anaconda3\\lib\\site-packages\\ipykernel_launcher.py:10: SettingWithCopyWarning: \n",
      "A value is trying to be set on a copy of a slice from a DataFrame.\n",
      "Try using .loc[row_indexer,col_indexer] = value instead\n",
      "\n",
      "See the caveats in the documentation: http://pandas.pydata.org/pandas-docs/stable/user_guide/indexing.html#returning-a-view-versus-a-copy\n",
      "  # Remove the CWD from sys.path while we load stuff.\n",
      "C:\\Users\\xzhou56\\anaconda3\\lib\\site-packages\\ipykernel_launcher.py:11: SettingWithCopyWarning: \n",
      "A value is trying to be set on a copy of a slice from a DataFrame.\n",
      "Try using .loc[row_indexer,col_indexer] = value instead\n",
      "\n",
      "See the caveats in the documentation: http://pandas.pydata.org/pandas-docs/stable/user_guide/indexing.html#returning-a-view-versus-a-copy\n",
      "  # This is added back by InteractiveShellApp.init_path()\n"
     ]
    },
    {
     "data": {
      "text/html": [
       "<div>\n",
       "<style scoped>\n",
       "    .dataframe tbody tr th:only-of-type {\n",
       "        vertical-align: middle;\n",
       "    }\n",
       "\n",
       "    .dataframe tbody tr th {\n",
       "        vertical-align: top;\n",
       "    }\n",
       "\n",
       "    .dataframe thead th {\n",
       "        text-align: right;\n",
       "    }\n",
       "</style>\n",
       "<table border=\"1\" class=\"dataframe\">\n",
       "  <thead>\n",
       "    <tr style=\"text-align: right;\">\n",
       "      <th></th>\n",
       "      <th>FIPS</th>\n",
       "      <th>NAME</th>\n",
       "      <th>State</th>\n",
       "      <th>Age_85</th>\n",
       "      <th>Age_80_84</th>\n",
       "      <th>Age_75_79</th>\n",
       "      <th>Age_70_74</th>\n",
       "      <th>Age_65_69</th>\n",
       "      <th>AgedPop</th>\n",
       "    </tr>\n",
       "  </thead>\n",
       "  <tbody>\n",
       "    <tr>\n",
       "      <td>0</td>\n",
       "      <td>1001</td>\n",
       "      <td>Autauga County</td>\n",
       "      <td>Alabama</td>\n",
       "      <td>815</td>\n",
       "      <td>1026</td>\n",
       "      <td>1498</td>\n",
       "      <td>2440</td>\n",
       "      <td>2271</td>\n",
       "      <td>8050</td>\n",
       "    </tr>\n",
       "    <tr>\n",
       "      <td>1</td>\n",
       "      <td>1003</td>\n",
       "      <td>Baldwin County</td>\n",
       "      <td>Alabama</td>\n",
       "      <td>3949</td>\n",
       "      <td>4792</td>\n",
       "      <td>7373</td>\n",
       "      <td>11410</td>\n",
       "      <td>13141</td>\n",
       "      <td>40665</td>\n",
       "    </tr>\n",
       "  </tbody>\n",
       "</table>\n",
       "</div>"
      ],
      "text/plain": [
       "   FIPS            NAME    State  Age_85  Age_80_84  Age_75_79  Age_70_74  \\\n",
       "0  1001  Autauga County  Alabama     815       1026       1498       2440   \n",
       "1  1003  Baldwin County  Alabama    3949       4792       7373      11410   \n",
       "\n",
       "   Age_65_69  AgedPop  \n",
       "0       2271     8050  \n",
       "1      13141    40665  "
      ]
     },
     "execution_count": 150,
     "metadata": {},
     "output_type": "execute_result"
    }
   ],
   "source": [
    "#census and health data from ESRI\n",
    "df_ACS1=pd.read_excel(r'C:\\Work_GovEx\\COVID-19\\New Data\\ACS 2014-2018 Fields.xlsx')\n",
    "df_ACSState=pd.read_excel(r'C:\\Work_GovEx\\COVID-19\\New Data\\ACS_State_Final_ToExcel_noMOE.xlsx')\n",
    "df_ACSCounty=pd.read_excel(r'C:\\Work_GovEx\\COVID-19\\New Data\\ACS_County_Final_ToExcel_noMOE.xlsx')\n",
    "df_ACSCounty1=df_ACSCounty[['FIPS', 'NAME', 'State']]\n",
    "df_ACSCounty1['Age_85']=df_ACSCounty['B01001_049E']+df_ACSCounty['B01001_025E']\n",
    "df_ACSCounty1['Age_80_84']=df_ACSCounty['B01001_048E']+df_ACSCounty['B01001_024E']\n",
    "df_ACSCounty1['Age_75_79']=df_ACSCounty['B01001_047E']+df_ACSCounty['B01001_023E']\n",
    "df_ACSCounty1['Age_70_74']=df_ACSCounty['B01001_046E']+df_ACSCounty['B01001_022E']\n",
    "df_ACSCounty1['Age_65_69']=df_ACSCounty['B01001_045E']+df_ACSCounty['B01001_021E']+df_ACSCounty['B01001_044E']+df_ACSCounty['B01001_020E']\n",
    "df_ACSCounty1['AgedPop']=df_ACSCounty1['Age_85']+df_ACSCounty1['Age_80_84']+df_ACSCounty1['Age_75_79']+df_ACSCounty1['Age_70_74']+df_ACSCounty1['Age_65_69']\n",
    "df_ACSCounty1.head(2)"
   ]
  },
  {
   "cell_type": "code",
   "execution_count": 151,
   "metadata": {},
   "outputs": [
    {
     "data": {
      "text/plain": [
       "(2480, 14)"
      ]
     },
     "execution_count": 151,
     "metadata": {},
     "output_type": "execute_result"
    }
   ],
   "source": [
    "df_Healthcare=pd.read_excel(r'C:\\Work_GovEx\\COVID-19\\New Data\\Definitive_Healthcare_Hospital_Beds_By_County_and_Demographics.xlsx',\n",
    "                            sheet_name= 'Sheet2',skiprows=2)\n",
    "df_Healthcare1=df_Healthcare[['Row Labels', 'Sum of NUM_LICENSED_BEDS', 'Sum of NUM_STAFFED_BEDS',\n",
    "       'Sum of NUM_ICU_BEDS','Sum of AVG_VENTILATOR_USAGE']]\n",
    "   #                           'ID','Sum # of Licensed Beds', 'Sum # of Staffed Beds', 'Sum # of ICU Beds','Average Average Ventilator Usage']]\n",
    "df_Healthcare1.rename(columns={'Row Labels':'ID','Sum of NUM_LICENSED_BEDS':'Beds_Licensed','Sum of NUM_STAFFED_BEDS':'Beds_Staffed','Sum of NUM_ICU_BEDS':'Beds_ICU',\n",
    "                             'Sum of AVG_VENTILATOR_USAGE':'Ventilators_Average' },inplace=True)\n",
    "df_CountyHealth=pd.merge(df_ACSCounty1,df_Healthcare1,how='inner',left_on='FIPS',right_on='ID')\n",
    "df_CountyHealth.shape"
   ]
  },
  {
   "cell_type": "code",
   "execution_count": 152,
   "metadata": {},
   "outputs": [],
   "source": [
    "#Merge JHU data with Esri County data, left join to keep all the confirmed cases\n",
    "df_Counties1=pd.merge(df_Counties,df_CountyHealth,how='left',left_on='FIPS',right_on='FIPS') "
   ]
  },
  {
   "cell_type": "code",
   "execution_count": 153,
   "metadata": {},
   "outputs": [],
   "source": [
    "#import demographic info  https://data.census.gov/cedsci/  data source: https://www.ers.usda.gov/data-products/county-level-data-sets/download-data/\n",
    "df_pop=pd.read_excel('C:\\Work_GovEx\\COVID-19\\Demographic\\PopulationEstimates.xls',skiprows=2)\n",
    "df_poverty=pd.read_excel('C:\\Work_GovEx\\COVID-19\\Demographic\\PovertyEstimates.xls',skiprows=4)\n",
    "#df_edu=pd.read_excel('C:\\Work_GovEx\\COVID-19\\Demographic\\Education.xls',skiprows=4)\n",
    "df_eco=pd.read_excel('C:\\Work_GovEx\\COVID-19\\Demographic\\employment.xls',skiprows=4)"
   ]
  },
  {
   "cell_type": "code",
   "execution_count": 154,
   "metadata": {},
   "outputs": [],
   "source": [
    "df_eco=df_eco.drop(df_eco.index[0])\n",
    "df_poverty=df_poverty.drop(df_poverty.index[0])\n",
    "df_pop=df_pop.drop(df_pop.index[0])\n",
    "#df_eco.head(2)"
   ]
  },
  {
   "cell_type": "code",
   "execution_count": 155,
   "metadata": {},
   "outputs": [],
   "source": [
    "#Select columns from demo data\n",
    "df_pop1=df_pop[['FIPS','POP_ESTIMATE_2018']]\n",
    "df_poverty1=df_poverty[['FIPStxt','POVALL_2018','PCTPOVALL_2018']]\n",
    "#df_edu1=df_edu[[]]\n",
    "df_eco1=df_eco[['FIPS','Unemployed_2018','Unemployment_rate_2018','Median_Household_Income_2018','Med_HH_Income_Percent_of_State_Total_2018']]"
   ]
  },
  {
   "cell_type": "code",
   "execution_count": 156,
   "metadata": {},
   "outputs": [],
   "source": [
    "#merge demo data\n",
    "demo1=pd.merge(df_pop1,df_poverty1,how='left',left_on='FIPS',right_on='FIPStxt')\n",
    "demo2=pd.merge(demo1,df_eco1,how='right',left_on='FIPS',right_on='FIPS')"
   ]
  },
  {
   "cell_type": "code",
   "execution_count": 157,
   "metadata": {},
   "outputs": [],
   "source": [
    "#merge JHU,Esri, Demo data\n",
    "USCounties1=pd.merge(df_Counties1,demo2,how='left',left_on='FIPS',right_on='FIPS')"
   ]
  },
  {
   "cell_type": "code",
   "execution_count": 162,
   "metadata": {},
   "outputs": [
    {
     "name": "stdout",
     "output_type": "stream",
     "text": [
      "07-22-2020\n"
     ]
    },
    {
     "ename": "HTTPError",
     "evalue": "HTTP Error 404: Not Found",
     "output_type": "error",
     "traceback": [
      "\u001b[1;31m---------------------------------------------------------------------------\u001b[0m",
      "\u001b[1;31mHTTPError\u001b[0m                                 Traceback (most recent call last)",
      "\u001b[1;32m<ipython-input-162-bc27417754df>\u001b[0m in \u001b[0;36m<module>\u001b[1;34m\u001b[0m\n\u001b[0;32m      4\u001b[0m \u001b[0mprint\u001b[0m \u001b[1;33m(\u001b[0m\u001b[0mstr\u001b[0m\u001b[1;33m(\u001b[0m\u001b[0mtd\u001b[0m\u001b[1;33m)\u001b[0m\u001b[1;33m)\u001b[0m\u001b[1;33m\u001b[0m\u001b[1;33m\u001b[0m\u001b[0m\n\u001b[0;32m      5\u001b[0m \u001b[1;31m#df_new=pd.read_csv(\"https://raw.githubusercontent.com/CSSEGISandData/COVID-19/master/csse_covid_19_data/csse_covid_19_daily_reports/\"+str(td)+\".csv\")\u001b[0m\u001b[1;33m\u001b[0m\u001b[1;33m\u001b[0m\u001b[1;33m\u001b[0m\u001b[0m\n\u001b[1;32m----> 6\u001b[1;33m \u001b[0mdf_new\u001b[0m\u001b[1;33m=\u001b[0m\u001b[0mpd\u001b[0m\u001b[1;33m.\u001b[0m\u001b[0mread_csv\u001b[0m\u001b[1;33m(\u001b[0m\u001b[1;34m\"https://raw.githubusercontent.com/CSSEGISandData/COVID-19/master/csse_covid_19_data/csse_covid_19_daily_reports/\"\u001b[0m\u001b[1;33m+\u001b[0m\u001b[0mstr\u001b[0m\u001b[1;33m(\u001b[0m\u001b[0mtd\u001b[0m\u001b[1;33m)\u001b[0m\u001b[1;33m+\u001b[0m\u001b[1;34m\".csv\"\u001b[0m\u001b[1;33m)\u001b[0m\u001b[1;33m\u001b[0m\u001b[1;33m\u001b[0m\u001b[0m\n\u001b[0m\u001b[0;32m      7\u001b[0m \u001b[0mdf_USnew\u001b[0m\u001b[1;33m=\u001b[0m\u001b[0mdf_new\u001b[0m\u001b[1;33m[\u001b[0m\u001b[0mdf_new\u001b[0m\u001b[1;33m[\u001b[0m\u001b[1;34m'Country_Region'\u001b[0m\u001b[1;33m]\u001b[0m\u001b[1;33m==\u001b[0m\u001b[1;34m'US'\u001b[0m\u001b[1;33m]\u001b[0m\u001b[1;33m\u001b[0m\u001b[1;33m\u001b[0m\u001b[0m\n\u001b[0;32m      8\u001b[0m dfStates=pd.pivot_table(df_USnew,values=['Confirmed', 'Deaths', 'Recovered',\n",
      "\u001b[1;32m~\\anaconda3\\lib\\site-packages\\pandas\\io\\parsers.py\u001b[0m in \u001b[0;36mparser_f\u001b[1;34m(filepath_or_buffer, sep, delimiter, header, names, index_col, usecols, squeeze, prefix, mangle_dupe_cols, dtype, engine, converters, true_values, false_values, skipinitialspace, skiprows, skipfooter, nrows, na_values, keep_default_na, na_filter, verbose, skip_blank_lines, parse_dates, infer_datetime_format, keep_date_col, date_parser, dayfirst, cache_dates, iterator, chunksize, compression, thousands, decimal, lineterminator, quotechar, quoting, doublequote, escapechar, comment, encoding, dialect, error_bad_lines, warn_bad_lines, delim_whitespace, low_memory, memory_map, float_precision)\u001b[0m\n\u001b[0;32m    683\u001b[0m         )\n\u001b[0;32m    684\u001b[0m \u001b[1;33m\u001b[0m\u001b[0m\n\u001b[1;32m--> 685\u001b[1;33m         \u001b[1;32mreturn\u001b[0m \u001b[0m_read\u001b[0m\u001b[1;33m(\u001b[0m\u001b[0mfilepath_or_buffer\u001b[0m\u001b[1;33m,\u001b[0m \u001b[0mkwds\u001b[0m\u001b[1;33m)\u001b[0m\u001b[1;33m\u001b[0m\u001b[1;33m\u001b[0m\u001b[0m\n\u001b[0m\u001b[0;32m    686\u001b[0m \u001b[1;33m\u001b[0m\u001b[0m\n\u001b[0;32m    687\u001b[0m     \u001b[0mparser_f\u001b[0m\u001b[1;33m.\u001b[0m\u001b[0m__name__\u001b[0m \u001b[1;33m=\u001b[0m \u001b[0mname\u001b[0m\u001b[1;33m\u001b[0m\u001b[1;33m\u001b[0m\u001b[0m\n",
      "\u001b[1;32m~\\anaconda3\\lib\\site-packages\\pandas\\io\\parsers.py\u001b[0m in \u001b[0;36m_read\u001b[1;34m(filepath_or_buffer, kwds)\u001b[0m\n\u001b[0;32m    438\u001b[0m     \u001b[1;31m# See https://github.com/python/mypy/issues/1297\u001b[0m\u001b[1;33m\u001b[0m\u001b[1;33m\u001b[0m\u001b[1;33m\u001b[0m\u001b[0m\n\u001b[0;32m    439\u001b[0m     fp_or_buf, _, compression, should_close = get_filepath_or_buffer(\n\u001b[1;32m--> 440\u001b[1;33m         \u001b[0mfilepath_or_buffer\u001b[0m\u001b[1;33m,\u001b[0m \u001b[0mencoding\u001b[0m\u001b[1;33m,\u001b[0m \u001b[0mcompression\u001b[0m\u001b[1;33m\u001b[0m\u001b[1;33m\u001b[0m\u001b[0m\n\u001b[0m\u001b[0;32m    441\u001b[0m     )\n\u001b[0;32m    442\u001b[0m     \u001b[0mkwds\u001b[0m\u001b[1;33m[\u001b[0m\u001b[1;34m\"compression\"\u001b[0m\u001b[1;33m]\u001b[0m \u001b[1;33m=\u001b[0m \u001b[0mcompression\u001b[0m\u001b[1;33m\u001b[0m\u001b[1;33m\u001b[0m\u001b[0m\n",
      "\u001b[1;32m~\\anaconda3\\lib\\site-packages\\pandas\\io\\common.py\u001b[0m in \u001b[0;36mget_filepath_or_buffer\u001b[1;34m(filepath_or_buffer, encoding, compression, mode)\u001b[0m\n\u001b[0;32m    194\u001b[0m \u001b[1;33m\u001b[0m\u001b[0m\n\u001b[0;32m    195\u001b[0m     \u001b[1;32mif\u001b[0m \u001b[0m_is_url\u001b[0m\u001b[1;33m(\u001b[0m\u001b[0mfilepath_or_buffer\u001b[0m\u001b[1;33m)\u001b[0m\u001b[1;33m:\u001b[0m\u001b[1;33m\u001b[0m\u001b[1;33m\u001b[0m\u001b[0m\n\u001b[1;32m--> 196\u001b[1;33m         \u001b[0mreq\u001b[0m \u001b[1;33m=\u001b[0m \u001b[0murlopen\u001b[0m\u001b[1;33m(\u001b[0m\u001b[0mfilepath_or_buffer\u001b[0m\u001b[1;33m)\u001b[0m\u001b[1;33m\u001b[0m\u001b[1;33m\u001b[0m\u001b[0m\n\u001b[0m\u001b[0;32m    197\u001b[0m         \u001b[0mcontent_encoding\u001b[0m \u001b[1;33m=\u001b[0m \u001b[0mreq\u001b[0m\u001b[1;33m.\u001b[0m\u001b[0mheaders\u001b[0m\u001b[1;33m.\u001b[0m\u001b[0mget\u001b[0m\u001b[1;33m(\u001b[0m\u001b[1;34m\"Content-Encoding\"\u001b[0m\u001b[1;33m,\u001b[0m \u001b[1;32mNone\u001b[0m\u001b[1;33m)\u001b[0m\u001b[1;33m\u001b[0m\u001b[1;33m\u001b[0m\u001b[0m\n\u001b[0;32m    198\u001b[0m         \u001b[1;32mif\u001b[0m \u001b[0mcontent_encoding\u001b[0m \u001b[1;33m==\u001b[0m \u001b[1;34m\"gzip\"\u001b[0m\u001b[1;33m:\u001b[0m\u001b[1;33m\u001b[0m\u001b[1;33m\u001b[0m\u001b[0m\n",
      "\u001b[1;32m~\\anaconda3\\lib\\urllib\\request.py\u001b[0m in \u001b[0;36murlopen\u001b[1;34m(url, data, timeout, cafile, capath, cadefault, context)\u001b[0m\n\u001b[0;32m    220\u001b[0m     \u001b[1;32melse\u001b[0m\u001b[1;33m:\u001b[0m\u001b[1;33m\u001b[0m\u001b[1;33m\u001b[0m\u001b[0m\n\u001b[0;32m    221\u001b[0m         \u001b[0mopener\u001b[0m \u001b[1;33m=\u001b[0m \u001b[0m_opener\u001b[0m\u001b[1;33m\u001b[0m\u001b[1;33m\u001b[0m\u001b[0m\n\u001b[1;32m--> 222\u001b[1;33m     \u001b[1;32mreturn\u001b[0m \u001b[0mopener\u001b[0m\u001b[1;33m.\u001b[0m\u001b[0mopen\u001b[0m\u001b[1;33m(\u001b[0m\u001b[0murl\u001b[0m\u001b[1;33m,\u001b[0m \u001b[0mdata\u001b[0m\u001b[1;33m,\u001b[0m \u001b[0mtimeout\u001b[0m\u001b[1;33m)\u001b[0m\u001b[1;33m\u001b[0m\u001b[1;33m\u001b[0m\u001b[0m\n\u001b[0m\u001b[0;32m    223\u001b[0m \u001b[1;33m\u001b[0m\u001b[0m\n\u001b[0;32m    224\u001b[0m \u001b[1;32mdef\u001b[0m \u001b[0minstall_opener\u001b[0m\u001b[1;33m(\u001b[0m\u001b[0mopener\u001b[0m\u001b[1;33m)\u001b[0m\u001b[1;33m:\u001b[0m\u001b[1;33m\u001b[0m\u001b[1;33m\u001b[0m\u001b[0m\n",
      "\u001b[1;32m~\\anaconda3\\lib\\urllib\\request.py\u001b[0m in \u001b[0;36mopen\u001b[1;34m(self, fullurl, data, timeout)\u001b[0m\n\u001b[0;32m    529\u001b[0m         \u001b[1;32mfor\u001b[0m \u001b[0mprocessor\u001b[0m \u001b[1;32min\u001b[0m \u001b[0mself\u001b[0m\u001b[1;33m.\u001b[0m\u001b[0mprocess_response\u001b[0m\u001b[1;33m.\u001b[0m\u001b[0mget\u001b[0m\u001b[1;33m(\u001b[0m\u001b[0mprotocol\u001b[0m\u001b[1;33m,\u001b[0m \u001b[1;33m[\u001b[0m\u001b[1;33m]\u001b[0m\u001b[1;33m)\u001b[0m\u001b[1;33m:\u001b[0m\u001b[1;33m\u001b[0m\u001b[1;33m\u001b[0m\u001b[0m\n\u001b[0;32m    530\u001b[0m             \u001b[0mmeth\u001b[0m \u001b[1;33m=\u001b[0m \u001b[0mgetattr\u001b[0m\u001b[1;33m(\u001b[0m\u001b[0mprocessor\u001b[0m\u001b[1;33m,\u001b[0m \u001b[0mmeth_name\u001b[0m\u001b[1;33m)\u001b[0m\u001b[1;33m\u001b[0m\u001b[1;33m\u001b[0m\u001b[0m\n\u001b[1;32m--> 531\u001b[1;33m             \u001b[0mresponse\u001b[0m \u001b[1;33m=\u001b[0m \u001b[0mmeth\u001b[0m\u001b[1;33m(\u001b[0m\u001b[0mreq\u001b[0m\u001b[1;33m,\u001b[0m \u001b[0mresponse\u001b[0m\u001b[1;33m)\u001b[0m\u001b[1;33m\u001b[0m\u001b[1;33m\u001b[0m\u001b[0m\n\u001b[0m\u001b[0;32m    532\u001b[0m \u001b[1;33m\u001b[0m\u001b[0m\n\u001b[0;32m    533\u001b[0m         \u001b[1;32mreturn\u001b[0m \u001b[0mresponse\u001b[0m\u001b[1;33m\u001b[0m\u001b[1;33m\u001b[0m\u001b[0m\n",
      "\u001b[1;32m~\\anaconda3\\lib\\urllib\\request.py\u001b[0m in \u001b[0;36mhttp_response\u001b[1;34m(self, request, response)\u001b[0m\n\u001b[0;32m    639\u001b[0m         \u001b[1;32mif\u001b[0m \u001b[1;32mnot\u001b[0m \u001b[1;33m(\u001b[0m\u001b[1;36m200\u001b[0m \u001b[1;33m<=\u001b[0m \u001b[0mcode\u001b[0m \u001b[1;33m<\u001b[0m \u001b[1;36m300\u001b[0m\u001b[1;33m)\u001b[0m\u001b[1;33m:\u001b[0m\u001b[1;33m\u001b[0m\u001b[1;33m\u001b[0m\u001b[0m\n\u001b[0;32m    640\u001b[0m             response = self.parent.error(\n\u001b[1;32m--> 641\u001b[1;33m                 'http', request, response, code, msg, hdrs)\n\u001b[0m\u001b[0;32m    642\u001b[0m \u001b[1;33m\u001b[0m\u001b[0m\n\u001b[0;32m    643\u001b[0m         \u001b[1;32mreturn\u001b[0m \u001b[0mresponse\u001b[0m\u001b[1;33m\u001b[0m\u001b[1;33m\u001b[0m\u001b[0m\n",
      "\u001b[1;32m~\\anaconda3\\lib\\urllib\\request.py\u001b[0m in \u001b[0;36merror\u001b[1;34m(self, proto, *args)\u001b[0m\n\u001b[0;32m    567\u001b[0m         \u001b[1;32mif\u001b[0m \u001b[0mhttp_err\u001b[0m\u001b[1;33m:\u001b[0m\u001b[1;33m\u001b[0m\u001b[1;33m\u001b[0m\u001b[0m\n\u001b[0;32m    568\u001b[0m             \u001b[0margs\u001b[0m \u001b[1;33m=\u001b[0m \u001b[1;33m(\u001b[0m\u001b[0mdict\u001b[0m\u001b[1;33m,\u001b[0m \u001b[1;34m'default'\u001b[0m\u001b[1;33m,\u001b[0m \u001b[1;34m'http_error_default'\u001b[0m\u001b[1;33m)\u001b[0m \u001b[1;33m+\u001b[0m \u001b[0morig_args\u001b[0m\u001b[1;33m\u001b[0m\u001b[1;33m\u001b[0m\u001b[0m\n\u001b[1;32m--> 569\u001b[1;33m             \u001b[1;32mreturn\u001b[0m \u001b[0mself\u001b[0m\u001b[1;33m.\u001b[0m\u001b[0m_call_chain\u001b[0m\u001b[1;33m(\u001b[0m\u001b[1;33m*\u001b[0m\u001b[0margs\u001b[0m\u001b[1;33m)\u001b[0m\u001b[1;33m\u001b[0m\u001b[1;33m\u001b[0m\u001b[0m\n\u001b[0m\u001b[0;32m    570\u001b[0m \u001b[1;33m\u001b[0m\u001b[0m\n\u001b[0;32m    571\u001b[0m \u001b[1;31m# XXX probably also want an abstract factory that knows when it makes\u001b[0m\u001b[1;33m\u001b[0m\u001b[1;33m\u001b[0m\u001b[1;33m\u001b[0m\u001b[0m\n",
      "\u001b[1;32m~\\anaconda3\\lib\\urllib\\request.py\u001b[0m in \u001b[0;36m_call_chain\u001b[1;34m(self, chain, kind, meth_name, *args)\u001b[0m\n\u001b[0;32m    501\u001b[0m         \u001b[1;32mfor\u001b[0m \u001b[0mhandler\u001b[0m \u001b[1;32min\u001b[0m \u001b[0mhandlers\u001b[0m\u001b[1;33m:\u001b[0m\u001b[1;33m\u001b[0m\u001b[1;33m\u001b[0m\u001b[0m\n\u001b[0;32m    502\u001b[0m             \u001b[0mfunc\u001b[0m \u001b[1;33m=\u001b[0m \u001b[0mgetattr\u001b[0m\u001b[1;33m(\u001b[0m\u001b[0mhandler\u001b[0m\u001b[1;33m,\u001b[0m \u001b[0mmeth_name\u001b[0m\u001b[1;33m)\u001b[0m\u001b[1;33m\u001b[0m\u001b[1;33m\u001b[0m\u001b[0m\n\u001b[1;32m--> 503\u001b[1;33m             \u001b[0mresult\u001b[0m \u001b[1;33m=\u001b[0m \u001b[0mfunc\u001b[0m\u001b[1;33m(\u001b[0m\u001b[1;33m*\u001b[0m\u001b[0margs\u001b[0m\u001b[1;33m)\u001b[0m\u001b[1;33m\u001b[0m\u001b[1;33m\u001b[0m\u001b[0m\n\u001b[0m\u001b[0;32m    504\u001b[0m             \u001b[1;32mif\u001b[0m \u001b[0mresult\u001b[0m \u001b[1;32mis\u001b[0m \u001b[1;32mnot\u001b[0m \u001b[1;32mNone\u001b[0m\u001b[1;33m:\u001b[0m\u001b[1;33m\u001b[0m\u001b[1;33m\u001b[0m\u001b[0m\n\u001b[0;32m    505\u001b[0m                 \u001b[1;32mreturn\u001b[0m \u001b[0mresult\u001b[0m\u001b[1;33m\u001b[0m\u001b[1;33m\u001b[0m\u001b[0m\n",
      "\u001b[1;32m~\\anaconda3\\lib\\urllib\\request.py\u001b[0m in \u001b[0;36mhttp_error_default\u001b[1;34m(self, req, fp, code, msg, hdrs)\u001b[0m\n\u001b[0;32m    647\u001b[0m \u001b[1;32mclass\u001b[0m \u001b[0mHTTPDefaultErrorHandler\u001b[0m\u001b[1;33m(\u001b[0m\u001b[0mBaseHandler\u001b[0m\u001b[1;33m)\u001b[0m\u001b[1;33m:\u001b[0m\u001b[1;33m\u001b[0m\u001b[1;33m\u001b[0m\u001b[0m\n\u001b[0;32m    648\u001b[0m     \u001b[1;32mdef\u001b[0m \u001b[0mhttp_error_default\u001b[0m\u001b[1;33m(\u001b[0m\u001b[0mself\u001b[0m\u001b[1;33m,\u001b[0m \u001b[0mreq\u001b[0m\u001b[1;33m,\u001b[0m \u001b[0mfp\u001b[0m\u001b[1;33m,\u001b[0m \u001b[0mcode\u001b[0m\u001b[1;33m,\u001b[0m \u001b[0mmsg\u001b[0m\u001b[1;33m,\u001b[0m \u001b[0mhdrs\u001b[0m\u001b[1;33m)\u001b[0m\u001b[1;33m:\u001b[0m\u001b[1;33m\u001b[0m\u001b[1;33m\u001b[0m\u001b[0m\n\u001b[1;32m--> 649\u001b[1;33m         \u001b[1;32mraise\u001b[0m \u001b[0mHTTPError\u001b[0m\u001b[1;33m(\u001b[0m\u001b[0mreq\u001b[0m\u001b[1;33m.\u001b[0m\u001b[0mfull_url\u001b[0m\u001b[1;33m,\u001b[0m \u001b[0mcode\u001b[0m\u001b[1;33m,\u001b[0m \u001b[0mmsg\u001b[0m\u001b[1;33m,\u001b[0m \u001b[0mhdrs\u001b[0m\u001b[1;33m,\u001b[0m \u001b[0mfp\u001b[0m\u001b[1;33m)\u001b[0m\u001b[1;33m\u001b[0m\u001b[1;33m\u001b[0m\u001b[0m\n\u001b[0m\u001b[0;32m    650\u001b[0m \u001b[1;33m\u001b[0m\u001b[0m\n\u001b[0;32m    651\u001b[0m \u001b[1;32mclass\u001b[0m \u001b[0mHTTPRedirectHandler\u001b[0m\u001b[1;33m(\u001b[0m\u001b[0mBaseHandler\u001b[0m\u001b[1;33m)\u001b[0m\u001b[1;33m:\u001b[0m\u001b[1;33m\u001b[0m\u001b[1;33m\u001b[0m\u001b[0m\n",
      "\u001b[1;31mHTTPError\u001b[0m: HTTP Error 404: Not Found"
     ]
    }
   ],
   "source": [
    "#import the most recent daily data from https://github.com/CSSEGISandData/COVID-19/tree/master/csse_covid_19_data/csse_covid_19_daily_reports\n",
    "td=datetime.strftime(datetime.now()-timedelta(1), '%m-%d-%Y')\n",
    "#td=datetime.strftime(datetime.now(), '%m-%d-%Y')\n",
    "print (str(td))\n",
    "#df_new=pd.read_csv(\"https://raw.githubusercontent.com/CSSEGISandData/COVID-19/master/csse_covid_19_data/csse_covid_19_daily_reports/\"+str(td)+\".csv\")\n",
    "df_new=pd.read_csv(\"https://raw.githubusercontent.com/CSSEGISandData/COVID-19/master/csse_covid_19_data/csse_covid_19_daily_reports/\"+str(td)+\".csv\")\n",
    "df_USnew=df_new[df_new['Country_Region']=='US']\n",
    "dfStates=pd.pivot_table(df_USnew,values=['Confirmed', 'Deaths', 'Recovered',\n",
    "       'Active'],index=['Province_State'],aggfunc=np.sum)\n",
    "dfStates.rename(columns={'Confirmed':'State_Confirmed','Deaths':'State_Deaths','Recovered':'State_Recovered'},inplace=True)\n",
    "#dfStates['State_Testing']=999\n",
    "dfStates.reset_index(inplace=True)\n",
    "dfStates.State_Recovered.sum()"
   ]
  },
  {
   "cell_type": "code",
   "execution_count": null,
   "metadata": {},
   "outputs": [],
   "source": [
    "#dfStates"
   ]
  },
  {
   "cell_type": "code",
   "execution_count": null,
   "metadata": {},
   "outputs": [],
   "source": [
    "#merge UScounties1 with state data\n",
    "USCounties2=pd.merge(USCounties1,dfStates,how='outer',left_on='State',right_on='Province_State')"
   ]
  },
  {
   "cell_type": "code",
   "execution_count": null,
   "metadata": {},
   "outputs": [],
   "source": [
    "#import Red Cross\n",
    "dfRC=pd.read_csv(r'C:\\Work_GovEx\\COVID-19\\New Data\\Red Cross Centroids for COVID19 Public Health Emergency Status by County_0.csv')"
   ]
  },
  {
   "cell_type": "code",
   "execution_count": null,
   "metadata": {},
   "outputs": [],
   "source": [
    "dfRC1=dfRC[['FIPS','Notes','Last Update', 'Local Public Emergency']]\n",
    "dfRC1.loc[dfRC1['Local Public Emergency']=='Red','Local Public Emergency']= 'Govt Ordered Community Quarantine'\n",
    "dfRC1.loc[dfRC1['Local Public Emergency']=='Orange','Local Public Emergency']= 'Govt Directed Social Distancing'\n",
    "dfRC1.loc[dfRC1['Local Public Emergency']=='Yellow','Local Public Emergency']= 'Declared Public Health Emergency'"
   ]
  },
  {
   "cell_type": "code",
   "execution_count": null,
   "metadata": {},
   "outputs": [],
   "source": [
    "dfRC1['Local Public Emergency'].unique()"
   ]
  },
  {
   "cell_type": "code",
   "execution_count": null,
   "metadata": {},
   "outputs": [],
   "source": [
    "dfRC1.rename(columns={'Notes':'EM_notes','Last Update':'EM_date','Local Public Emergency':'EM_type'},inplace=True)"
   ]
  },
  {
   "cell_type": "code",
   "execution_count": null,
   "metadata": {},
   "outputs": [],
   "source": [
    "#merge UScounties2 with RC data\n",
    "USCounties3=pd.merge(USCounties2, dfRC1,how='left',left_on='FIPS',right_on='FIPS')"
   ]
  },
  {
   "cell_type": "code",
   "execution_count": null,
   "metadata": {},
   "outputs": [],
   "source": [
    "#import US Counties, State shp file downloaded from Esri\n",
    "US_Counties=gpd.read_file(r\"C:\\Work_GovEx\\COVID-19\\New Data\\JHUCounties.shp\")\n",
    "US_Counties.rename(columns={'NAME':'Countyname','COUNTYFP':'CountyFP'},inplace=True)\n",
    "US_Counties['GEOID']=US_Counties['GEOID'].astype(float)"
   ]
  },
  {
   "cell_type": "code",
   "execution_count": null,
   "metadata": {},
   "outputs": [],
   "source": [
    "#import state testing data from https://covidtracking.com/api/states\n",
    "dfStatesTesting=pd.read_json('https://covidtracking.com/api/v1/states/current.json')\n",
    "dfStatesTesting=dfStatesTesting[['state','total','dateChecked']]\n",
    "dfStatesTesting.rename(columns={'total':'State_Testing','dateChecked':'DateChecked'},inplace=True)"
   ]
  },
  {
   "cell_type": "code",
   "execution_count": null,
   "metadata": {},
   "outputs": [],
   "source": [
    "#Merge with state testing data\n",
    "USCounties=pd.merge(US_Counties,dfStatesTesting,how='left',left_on='ST_Abbr',right_on='state')"
   ]
  },
  {
   "cell_type": "code",
   "execution_count": null,
   "metadata": {},
   "outputs": [],
   "source": [
    "#Import Race data\n",
    "#USCounties_pre=gpd.read_file(r\"C:\\Work_GovEx\\COVID-19\\Daily Data\\USCounties_JHUmap_05_05\\USCounties_JHUmap.shp\")\n",
    "Counties_race=pd.read_csv(r'C:\\Work_GovEx\\COVID-19\\New Data\\County_ShpHeaders.csv')\n",
    "Race_Age=pd.read_csv(r'C:\\Work_GovEx\\COVID-19\\New Data\\Race_Age.csv')"
   ]
  },
  {
   "cell_type": "code",
   "execution_count": null,
   "metadata": {},
   "outputs": [],
   "source": [
    "Race_Agemerge=pd.merge(Counties_race,Race_Age,how='left',left_on='GEOIDFIPS',right_on='FIPS')"
   ]
  },
  {
   "cell_type": "code",
   "execution_count": null,
   "metadata": {},
   "outputs": [],
   "source": [
    "USCountiesm1=pd.merge(USCounties,Race_Agemerge,how='left',left_on='GEOID',right_on='GEOIDFIPS')"
   ]
  },
  {
   "cell_type": "code",
   "execution_count": null,
   "metadata": {},
   "outputs": [],
   "source": [
    "USCountiesm1=USCountiesm1[['Countyname', 'GEOID', 'ST_Abbr', 'ST_ID', 'ST_Name', 'geometry',\n",
    "       'state', 'State_Testing', 'DateChecked', 'ObjectID', 'CountyGNIS',\n",
    "       'GEOIDFIPS', 'TotalPop',\n",
    "       'NonHispWhPop',  'BlackPop',\n",
    "      'AmIndop',  'AsianPop', \n",
    "       'PacIslPop',  'OtherPop',  'TwoMorPop',\n",
    "       'HispPop',  'PCPopNWh', \n",
    "       'PCPopBk', 'PCPopAI', 'PCPopAs',\n",
    "      'PPCPopPI',  'PCPopOr', \n",
    "       'PCPopTm',  'PCPopHL',\n",
    "       'racePop_total', 'White alone',\n",
    "       'Black or African American alone',\n",
    "       'American Indian and Alaska Native alone', 'Asian alone',\n",
    "       'Native Hawaiian and Other Pacific Islander alone',\n",
    "       'Some other race alone', 'Two or more races',\n",
    "       'Not Hispanic or Latino origin', 'Hispanic or Latino Origin',\n",
    "       'Age_under15', 'Age_15_24', 'Age_25_34', 'Age_35_64', 'Age_65_74',\n",
    "       'Age_over75', 'Agetotal' ]]"
   ]
  },
  {
   "cell_type": "code",
   "execution_count": null,
   "metadata": {},
   "outputs": [],
   "source": [
    "#join the Countyshp and State testing file with USCounties3\n",
    "USCounties4=pd.merge(USCountiesm1,USCounties3,how='right',left_on='GEOID',right_on='FIPS')\n",
    "#USCounties1=pd.merge(US_Counties,df_USnew,how='left',left_on='forjoin',right_on='Combined_Key1')"
   ]
  },
  {
   "cell_type": "code",
   "execution_count": null,
   "metadata": {},
   "outputs": [],
   "source": [
    "#Add calcuations\n",
    "USCounties4['FatalityRate']=USCounties4['Deaths']/USCounties4['Confirmed']*100\n",
    "USCounties4['ConfirmedbyPop']=USCounties4['Confirmed']/USCounties4['POP_ESTIMATE_2018']*100000\n",
    "USCounties4['DeathsbyPop']=USCounties4['Deaths']/USCounties4['POP_ESTIMATE_2018']*100000\n",
    "USCounties4['State_FatalityRate']=USCounties4['State_Deaths']/USCounties4['State_Confirmed']*100\n",
    "USCounties4['Recovered']=0  # place holder\n",
    "USCounties4['Active']=0   #place holder\n",
    "USCounties4['url']='infUrl' #place holder\n",
    "USCounties4['Thumbnail']='placeholder' #place holder\n"
   ]
  },
  {
   "cell_type": "code",
   "execution_count": null,
   "metadata": {},
   "outputs": [],
   "source": [
    "USCounties4['ConfirmedbyPop']=USCounties4['ConfirmedbyPop'].round(2)"
   ]
  },
  {
   "cell_type": "code",
   "execution_count": null,
   "metadata": {},
   "outputs": [],
   "source": [
    "#select columns\n",
    "USCounties4=USCounties4[['Admin2', 'Province_State_x','ST_Abbr', 'ST_ID',  'geometry',\n",
    "       'FIPS', 'FatalityRate', 'ConfirmedbyPop','DeathsbyPop', 'PCTPOVALL_2018', \n",
    "         'Unemployment_rate_2018', 'Med_HH_Income_Percent_of_State_Total_2018',\n",
    "       'State_FatalityRate', 'DateChecked',\n",
    "        'EM_type', 'EM_date','EM_notes','url', 'Thumbnail', 'Confirmed',  'Deaths',\n",
    "        'Age_85', 'Age_80_84', 'Age_75_79', 'Age_70_74', 'Age_65_69',  \n",
    "        'Beds_Licensed', 'Beds_Staffed','Beds_ICU', 'Ventilators_Average', \n",
    "        'POP_ESTIMATE_2018','POVALL_2018', 'Unemployed_2018','Median_Household_Income_2018',\n",
    "        'Recovered', 'Active', 'State_Confirmed', 'State_Deaths', 'State_Recovered',\n",
    "       'State_Testing',  'AgedPop','NewCases','NewDeaths','TotalPop', 'NonHispWhPop', 'BlackPop', 'AmIndop',\n",
    "       'AsianPop', 'PacIslPop', 'OtherPop', 'TwoMorPop', 'HispPop', 'PCPopNWh',\n",
    "       'PCPopBk', 'PCPopAI', 'PCPopAs', 'PPCPopPI', 'PCPopOr', 'PCPopTm',\n",
    "       'PCPopHL','racePop_total', 'White alone',\n",
    "       'Black or African American alone',\n",
    "       'American Indian and Alaska Native alone', 'Asian alone',\n",
    "       'Native Hawaiian and Other Pacific Islander alone',\n",
    "       'Some other race alone', 'Two or more races',\n",
    "       'Not Hispanic or Latino origin', 'Hispanic or Latino Origin',\n",
    "       'Age_under15', 'Age_15_24', 'Age_25_34', 'Age_35_64', 'Age_65_74',\n",
    "       'Age_over75', 'Agetotal']]\n",
    "USCounties4.rename(columns={'Admin2':'Countyname'},inplace=True)\n",
    "USCounties4.rename(columns={'Province_State_x':'ST_Name'},inplace=True)"
   ]
  },
  {
   "cell_type": "code",
   "execution_count": null,
   "metadata": {},
   "outputs": [],
   "source": [
    "USCounties4['FIPS']=USCounties4['FIPS'].fillna(0).astype(int)\n",
    "USCounties4['FIPS']=USCounties4['FIPS'].apply(str).str.pad(width=5, side='left', fillchar='0')\n",
    "USCounties4['Age_85']=USCounties4['Age_85'].fillna(0).astype(int)\n",
    "USCounties4['Age_80_84']=USCounties4['Age_80_84'].fillna(0).astype(int)\n",
    "USCounties4['Age_75_79']=USCounties4['Age_75_79'].fillna(0).astype(int)\n",
    "USCounties4['Age_70_74']=USCounties4['Age_70_74'].fillna(0).astype(int)\n",
    "USCounties4['Age_65_69']=USCounties4['Age_65_69'].fillna(0).astype(int)\n",
    "USCounties4['AgedPop']=USCounties4['AgedPop'].fillna(0).astype(int)\n",
    "USCounties4['Beds_Licensed']=USCounties4['Beds_Licensed'].fillna(0).astype(int)\n",
    "USCounties4['Beds_ICU']=USCounties4['Beds_ICU'].fillna(0).astype(int)\n",
    "USCounties4['Beds_Staffed']=USCounties4['Beds_Staffed'].fillna(0).astype(int)\n",
    "# USCounties4['NewCases']=USCounties4['NewCases'].fillna(0).astype(int)\n",
    "# USCounties4['NewDeaths']=USCounties4['NewDeaths'].fillna(0).astype(int)\n",
    "USCounties4[['Confirmed', 'Deaths',\n",
    " 'Ventilators_Average',\n",
    "       'POP_ESTIMATE_2018', 'POVALL_2018',  'Unemployed_2018',\n",
    "        'Median_Household_Income_2018', 'Recovered', 'Active',\n",
    "       'State_Confirmed', 'State_Deaths', 'State_Recovered',\n",
    "        'State_Testing']]=USCounties4[['Confirmed', 'Deaths', \n",
    "        'Ventilators_Average',\n",
    "       'POP_ESTIMATE_2018', 'POVALL_2018',  'Unemployed_2018',\n",
    "        'Median_Household_Income_2018', 'Recovered', 'Active',\n",
    "       'State_Confirmed', 'State_Deaths', 'State_Recovered',\n",
    "        'State_Testing']].fillna(0).astype(int)\n"
   ]
  },
  {
   "cell_type": "code",
   "execution_count": null,
   "metadata": {},
   "outputs": [],
   "source": [
    "#Add url and Thumbnail columns\n",
    "fiplist=USCounties4['FIPS'].tolist()\n",
    "urllist=list()\n",
    "for i in fiplist:\n",
    "    url0='https://bao.arcgis.com/covid-19/jhu/county/'+i+'.html'\n",
    "    urllist.append(url0)\n",
    "USCounties4['url']=urllist\n",
    "USCounties4['Thumbnail']=\"https://coronavirus.jhu.edu/static/media/dashboard_infographic_thumbnail.png\""
   ]
  },
  {
   "cell_type": "code",
   "execution_count": null,
   "metadata": {},
   "outputs": [],
   "source": [
    "tdtime=datetime.strftime(datetime.now(), '%m/%d/%Y %H:%M:%S')\n",
    "print (tdtime)\n",
    "USCounties4['DateChecked']=tdtime\n",
    "USCounties4['DateChecked']"
   ]
  },
  {
   "cell_type": "code",
   "execution_count": null,
   "metadata": {},
   "outputs": [],
   "source": [
    "#reorganize the field and export\n",
    "USCounties4=USCounties4[['Countyname', 'ST_Name','ST_Abbr', 'ST_ID','geometry',\n",
    "       'FIPS', 'FatalityRate', 'ConfirmedbyPop','DeathsbyPop', 'PCTPOVALL_2018', \n",
    "         'Unemployment_rate_2018', 'Med_HH_Income_Percent_of_State_Total_2018',\n",
    "       'State_FatalityRate', 'DateChecked',\n",
    "        'EM_type', 'EM_date','EM_notes','url', 'Thumbnail', 'Confirmed',  'Deaths',\n",
    "        'Age_85', 'Age_80_84', 'Age_75_79', 'Age_70_74', 'Age_65_69',  \n",
    "        'Beds_Licensed', 'Beds_Staffed','Beds_ICU', 'Ventilators_Average', \n",
    "        'POP_ESTIMATE_2018','POVALL_2018', 'Unemployed_2018','Median_Household_Income_2018',\n",
    "        'Recovered', 'Active', 'State_Confirmed', 'State_Deaths', 'State_Recovered',\n",
    "       'State_Testing',  'AgedPop','NewCases', 'NewDeaths','TotalPop',\n",
    "       'NonHispWhPop', 'BlackPop', 'AmIndop', 'AsianPop', 'PacIslPop',\n",
    "       'OtherPop', 'TwoMorPop', 'HispPop', 'PCPopNWh', 'PCPopBk', 'PCPopAI',\n",
    "       'PCPopAs', 'PPCPopPI', 'PCPopOr', 'PCPopTm', 'PCPopHL','racePop_total',\n",
    "       'White alone', 'Black or African American alone',\n",
    "       'American Indian and Alaska Native alone', 'Asian alone',\n",
    "       'Native Hawaiian and Other Pacific Islander alone',\n",
    "       'Some other race alone', 'Two or more races',\n",
    "       'Not Hispanic or Latino origin', 'Hispanic or Latino Origin',\n",
    "       'Age_under15', 'Age_15_24', 'Age_25_34', 'Age_35_64', 'Age_65_74',\n",
    "       'Age_over75', 'Agetotal']]\n"
   ]
  },
  {
   "cell_type": "code",
   "execution_count": null,
   "metadata": {},
   "outputs": [],
   "source": [
    "USCounties4.rename(columns={'FatalityRate':'FatalityRa','ConfirmedbyPop':'Confirmedb','DeathsbyPop':'DeathsbyPo',\n",
    "                            'PCTPOVALL_2018':'PCTPOVALL_','Unemployment_rate_2018':'Unemployme', \n",
    "                            'Med_HH_Income_Percent_of_State_Total_2018':'Med_HH_Inc',\n",
    "                            'State_FatalityRate':'State_Fata', 'DateChecked':'DateChecke','Beds_Licensed':'Beds_Licen',\n",
    "                            'Ventilators_Average':'Ventilator', 'POP_ESTIMATE_2018':'POP_ESTIMA',\n",
    "                            'POVALL_2018':'POVALL_201', 'Unemployed_2018':'Unemployed',\n",
    "                            'Median_Household_Income_2018':'Median_Hou',\n",
    "                            'State_Confirmed':'State_Conf','State_Deaths':'State_Deat', \n",
    "                            'State_Recovered':'State_Reco','State_Testing':'State_Test',\n",
    "                           'White alone':'Wh_Alone', 'Black or African American alone':'Bk_Alone',\n",
    "                            'American Indian and Alaska Native alone':'AI_Alone', 'Asian alone':'As_Alone',\n",
    "                            'Native Hawaiian and Other Pacific Islander alone':'NH_Alone','Some other race alone':'SO_Alone', \n",
    "                            'Two or more races':'Two_More','Not Hispanic or Latino origin':'Not_Hisp', \n",
    "                            'Hispanic or Latino Origin':'NonHisp',\n",
    "                            'Age_under15':'Age_Less15', 'Age_over75':'Age_Over75',\n",
    "                           },inplace=True)"
   ]
  },
  {
   "cell_type": "code",
   "execution_count": null,
   "metadata": {},
   "outputs": [],
   "source": [
    "USCounties4.to_file(r'C:\\Work_GovEx\\COVID-19\\Daily Data\\USCounties_JHUmap.shp')"
   ]
  },
  {
   "cell_type": "code",
   "execution_count": null,
   "metadata": {},
   "outputs": [],
   "source": [
    "#USCounties4.to_file(r'C:\\Work_GovEx\\COVID-19\\Daily Data\\USCounties_JHUmap_Race_Age_NewCases.shp')"
   ]
  },
  {
   "cell_type": "code",
   "execution_count": null,
   "metadata": {},
   "outputs": [],
   "source": [
    "# USCounties4.to_file(r'C:\\Work_GovEx\\COVID-19\\Daily Data\\USCounties_JHUmap.shp')\n",
    "# testcheck=gpd.read_file(r'C:\\Work_GovEx\\COVID-19\\Daily Data\\USCounties_JHUmap.shp')\n",
    "# testcheck[ testcheck['Countyname']=='Washington'][['ST_Name','Confirmed','Countyname','NewCases']]"
   ]
  },
  {
   "cell_type": "markdown",
   "metadata": {},
   "source": [
    "# Update CSV"
   ]
  },
  {
   "cell_type": "code",
   "execution_count": null,
   "metadata": {},
   "outputs": [],
   "source": [
    "#data from github jhu,import the lastest data from timeseries\n",
    "df_Counties_confirmed=pd.read_csv(\"https://raw.githubusercontent.com/CSSEGISandData/COVID-19/master/csse_covid_19_data/csse_covid_19_time_series/time_series_covid19_confirmed_US.csv\")\n",
    "df_Counties_deaths=pd.read_csv(\"https://raw.githubusercontent.com/CSSEGISandData/COVID-19/master/csse_covid_19_data/csse_covid_19_time_series/time_series_covid19_deaths_US.csv\")"
   ]
  },
  {
   "cell_type": "code",
   "execution_count": null,
   "metadata": {},
   "outputs": [],
   "source": [
    "# Exclude military and extra data added to the end\n",
    "df_Counties_confirmed=df_Counties_confirmed.iloc[:3253]\n",
    "\n",
    "df_Counties_deaths=df_Counties_deaths.iloc[:3253]"
   ]
  },
  {
   "cell_type": "code",
   "execution_count": null,
   "metadata": {},
   "outputs": [],
   "source": [
    "#check the latest date\n",
    "tdst=df_Counties_confirmed.columns[-1]\n",
    "print (tdst)"
   ]
  },
  {
   "cell_type": "code",
   "execution_count": null,
   "metadata": {},
   "outputs": [],
   "source": [
    "#replace with NY boroughs files\n",
    "dates_list=df_NY_confirmed.columns[4:]\n",
    "print (dates_list)\n",
    "\n",
    "#df_NY_deaths=pd.read_csv(r'C:\\Work_GovEx\\COVID-19\\Daily Data\\JHU US Map_NY_KC_Duke_Nantucket Counties - Deaths.csv')\n",
    "for days in dates_list:\n",
    "    #print (days)\n",
    "    df_Counties_confirmed.loc[df_Counties_confirmed.FIPS==df_NY_confirmed.iloc[0,0],days]=df_NY_confirmed.loc[0][days]\n",
    "    df_Counties_confirmed.loc[df_Counties_confirmed.FIPS==df_NY_confirmed.iloc[1,0],days]=df_NY_confirmed.loc[1][days]\n",
    "    df_Counties_confirmed.loc[df_Counties_confirmed.FIPS==df_NY_confirmed.iloc[2,0],days]=df_NY_confirmed.loc[2][days]\n",
    "    df_Counties_confirmed.loc[df_Counties_confirmed.FIPS==df_NY_confirmed.iloc[3,0],days]=df_NY_confirmed.loc[3][days]\n",
    "    df_Counties_confirmed.loc[df_Counties_confirmed.FIPS==df_NY_confirmed.iloc[4,0],days]=df_NY_confirmed.loc[4][days]\n",
    "    \n",
    "    df_Counties_deaths.loc[df_Counties_deaths.FIPS==df_NY_deaths.iloc[0,0],days]=df_NY_deaths.loc[0][days]\n",
    "    df_Counties_deaths.loc[df_Counties_deaths.FIPS==df_NY_deaths.iloc[1,0],days]=df_NY_deaths.loc[1][days]\n",
    "    df_Counties_deaths.loc[df_Counties_deaths.FIPS==df_NY_deaths.iloc[2,0],days]=df_NY_deaths.loc[2][days]\n",
    "    df_Counties_deaths.loc[df_Counties_deaths.FIPS==df_NY_deaths.iloc[3,0],days]=df_NY_deaths.loc[3][days]\n",
    "    df_Counties_deaths.loc[df_Counties_deaths.FIPS==df_NY_deaths.iloc[4,0],days]=df_NY_deaths.loc[4][days]"
   ]
  },
  {
   "cell_type": "code",
   "execution_count": null,
   "metadata": {},
   "outputs": [],
   "source": [
    "#deaths data has an extra column\n",
    "df_Counties_deaths.drop(columns=['iso2'],inplace=True)\n"
   ]
  },
  {
   "cell_type": "code",
   "execution_count": null,
   "metadata": {},
   "outputs": [],
   "source": [
    "#convert table\n",
    "def converttable(df):\n",
    "    cols=df.columns.tolist()\n",
    "    pd_list=[]\n",
    "    for i in range(11,df.shape[1]):\n",
    "        temp_cols=cols[:11]\n",
    "        temp_cols.append(cols[i])\n",
    "    # print(temp_cols)\n",
    "        temp_pd=df[temp_cols].copy()\n",
    "        temp_pd['dt']=cols[i]\n",
    "        temp_pd.rename(columns={cols[i]:'value'},inplace=True)\n",
    "        pd_list.append(temp_pd)\n",
    "    df_new=pd.concat(pd_list,axis=0,ignore_index=True)\n",
    "    return df_new"
   ]
  },
  {
   "cell_type": "code",
   "execution_count": null,
   "metadata": {},
   "outputs": [],
   "source": [
    "df_confirmed_new = converttable(df_Counties_confirmed)\n",
    "df_deaths_new = converttable(df_Counties_deaths)"
   ]
  },
  {
   "cell_type": "code",
   "execution_count": null,
   "metadata": {},
   "outputs": [],
   "source": [
    "#merge confirmed and deaths data \n",
    "df_confirmed_new['dt']=pd.to_datetime(df_confirmed_new['dt'])\n",
    "df_deaths_new['dt']=pd.to_datetime(df_deaths_new['dt'])\n",
    "# Rename cols\n",
    "df_confirmed_new.rename(columns = {'value': 'confirmed'}, inplace = True)\n",
    "df_deaths_new.rename(columns = {'value': 'deaths'}, inplace = True)\n",
    "# Merge two tables\n",
    "df_merged = df_confirmed_new.merge(df_deaths_new[['Admin2','Province_State', 'Country_Region', 'dt', 'deaths','Population']], \n",
    "                                   on = ['Admin2','Province_State', 'dt'], \n",
    "                                   how = 'inner')\n",
    "df_merged = df_merged[['Admin2','Province_State', 'FIPS', 'dt', 'confirmed', 'deaths','Population']]\n",
    "df_merged['FIPS']=df_merged['FIPS'].fillna(0).astype(int)\n",
    "df_merged['FIPS'] = df_merged['FIPS'].apply(lambda x: '{0:0>5}'.format(x))"
   ]
  },
  {
   "cell_type": "code",
   "execution_count": null,
   "metadata": {},
   "outputs": [],
   "source": [
    "#merge with shpfiles for geometry info\n",
    "US_Counties=gpd.read_file(r\"C:\\Work_GovEx\\COVID-19\\New Data\\JHUCounties.shp\")\n",
    "df_merged1=pd.merge(df_merged,US_Counties,how='left',left_on='FIPS',right_on='GEOID')\n",
    "\n"
   ]
  },
  {
   "cell_type": "code",
   "execution_count": null,
   "metadata": {},
   "outputs": [],
   "source": [
    "#select columns and rename\n",
    "df_merged1 = df_merged1[['Admin2','Province_State', 'FIPS','ST_ID','dt', 'confirmed', 'deaths','Population']]\n",
    "df_merged1.rename(columns={'Admin2':'Countyname','Province_State':'ST_Name','ST_ID':'ST_ID','confirmed':'Confirmed','deaths':'Deaths'},inplace=True)\n",
    "#Format FIPS\n",
    "df_merged1['FIPS']=df_merged1['FIPS'].fillna(0).astype(int)\n",
    "df_merged1['FIPS'] = df_merged1['FIPS'].apply(lambda x: '{0:0>5}'.format(x))\n",
    "#calculate IncidenceRate\n",
    "df_merged1['IncidenceRate']=df_merged1['Confirmed']/df_merged1['Population']*100000\n",
    "df_merged1['IncidenceRate']=df_merged1['IncidenceRate'].round(2)\n"
   ]
  },
  {
   "cell_type": "code",
   "execution_count": null,
   "metadata": {},
   "outputs": [],
   "source": [
    "#calculate new cases\n",
    "\n",
    "# Sort values\n",
    "df_merged1.sort_values(by = ['ST_Name','FIPS', 'dt'], ascending = True, inplace = True)\n",
    "\n",
    "# Differences\n",
    "df_merged1['NewCases'] = df_merged1.groupby(by = ['FIPS']).Confirmed.diff()"
   ]
  },
  {
   "cell_type": "code",
   "execution_count": null,
   "metadata": {},
   "outputs": [],
   "source": [
    "df_merged1['dt']=pd.to_datetime(df_merged1['dt']).dt.date\n",
    "from datetime import date\n",
    "df_merged1[df_merged1['dt']==date(2020,1,24)].head()"
   ]
  },
  {
   "cell_type": "code",
   "execution_count": null,
   "metadata": {},
   "outputs": [],
   "source": [
    "# df_merged1['ST_ID']=df_merged1['ST_ID'].fillna(0).astype(int)\n",
    "# df_merged1['ST_ID']=df_merged1['ST_ID'].apply(str).str.pad(width=2, side='left', fillchar='0')\n",
    "# df_merged1['FIPS']=df_merged1['FIPS'].fillna(0).astype(int)\n",
    "# df_merged1['FIPS']=df_merged1['FIPS'].apply(str).str.pad(width=5, side='left', fillchar='0')\n"
   ]
  },
  {
   "cell_type": "code",
   "execution_count": null,
   "metadata": {},
   "outputs": [],
   "source": [
    "df_merged1.to_csv('C:\\Work_GovEx\\COVID-19\\Daily Data\\df_Counties2020.csv')"
   ]
  },
  {
   "cell_type": "code",
   "execution_count": null,
   "metadata": {},
   "outputs": [],
   "source": [
    "#update the new files\n",
    "df_NY_confirmed.to_csv(r'C:\\Work_GovEx\\COVID-19\\Daily Data\\NY Boroughs_Confirmed.csv')\n",
    "df_NY_deaths.to_csv(r'C:\\Work_GovEx\\COVID-19\\Daily Data\\NY Boroughs_Deaths.csv')"
   ]
  }
 ],
 "metadata": {
  "kernelspec": {
   "display_name": "Python 3",
   "language": "python",
   "name": "python3"
  },
  "language_info": {
   "codemirror_mode": {
    "name": "ipython",
    "version": 3
   },
   "file_extension": ".py",
   "mimetype": "text/x-python",
   "name": "python",
   "nbconvert_exporter": "python",
   "pygments_lexer": "ipython3",
   "version": "3.7.3"
  }
 },
 "nbformat": 4,
 "nbformat_minor": 2
}
