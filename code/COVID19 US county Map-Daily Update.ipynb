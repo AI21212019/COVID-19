{
 "cells": [
  {
   "cell_type": "code",
   "execution_count": 144,
   "metadata": {},
   "outputs": [],
   "source": [
    "import pandas as pd\n",
    "import numpy as np\n",
    "from datetime import datetime,timedelta\n",
    "import geopandas as gpd\n",
    "pd.options.display.max_columns=100"
   ]
  },
  {
   "cell_type": "code",
   "execution_count": 208,
   "metadata": {},
   "outputs": [],
   "source": [
    "#data from github jhu,import the lastest data from timeseries\n",
    "df_Counties_confirmed=pd.read_csv(\"https://raw.githubusercontent.com/CSSEGISandData/COVID-19/master/csse_covid_19_data/csse_covid_19_time_series/time_series_covid19_confirmed_US.csv\")\n",
    "df_Counties_deaths=pd.read_csv(\"https://raw.githubusercontent.com/CSSEGISandData/COVID-19/master/csse_covid_19_data/csse_covid_19_time_series/time_series_covid19_deaths_US.csv\")\n",
    "covid19Root = '/Users/adamlee/Documents/GitHub/COVID-19/data_tables/Data_for_UScounty_map'\n",
    "covid19RootExport = '~/Documents/GitHub/COVID-19/data_tables/JHU_USCountymap_TEST/'"
   ]
  },
  {
   "cell_type": "code",
   "execution_count": 146,
   "metadata": {},
   "outputs": [
    {
     "name": "stdout",
     "output_type": "stream",
     "text": [
      "7/28/20\n",
      "7/28/20\n"
     ]
    }
   ],
   "source": [
    "#the lastest date, printing both just make sure they have the data are updated at the same pace\n",
    "tdst=df_Counties_confirmed.columns[-1]\n",
    "print (tdst)\n",
    "tdst1=df_Counties_deaths.columns[-1]\n",
    "print (tdst1)"
   ]
  },
  {
   "cell_type": "code",
   "execution_count": 147,
   "metadata": {},
   "outputs": [],
   "source": [
    "# Exclude military and extra data added to the end\n",
    "df_Counties_confirmed=df_Counties_confirmed.iloc[:3251]\n",
    "df_Counties_deaths=df_Counties_deaths.iloc[:3251]\n",
    "#df_Counties_confirmed.iloc[-2:]"
   ]
  },
  {
   "cell_type": "code",
   "execution_count": 148,
   "metadata": {
    "scrolled": true
   },
   "outputs": [],
   "source": [
    "Day14Series=[]\n",
    "for i in range(1,15):\n",
    "    #print (i)\n",
    "    day=df_Counties_confirmed.columns[(i-16)]\n",
    "    Day14Series.append(day)\n",
    "    \n",
    "len(Day14Series)\n",
    "Day14Series.extend([tdst,'FIPS', 'Admin2','Province_State','Combined_Key'])\n",
    "df_Counties_confirmed=df_Counties_confirmed[Day14Series]"
   ]
  },
  {
   "cell_type": "code",
   "execution_count": 149,
   "metadata": {},
   "outputs": [],
   "source": [
    "# Replace data with NY data\n",
    "df_NY_confirmed=pd.read_csv(covid19Root + r'/NY_Boroughs_Confirmed.csv')\n",
    "df_NY_deaths=pd.read_csv(covid19Root + r'/NY_Boroughs_Deaths.csv')\n",
    "#skip the first column\n",
    "df_NY_confirmed=df_NY_confirmed.iloc[:,1:]\n",
    "df_NY_deaths=df_NY_deaths.iloc[:,1:]\n",
    "#import NY data https://github.com/nychealth/coronavirus-data/blob/master/by-boro.csv\n",
    "df_NY_new=pd.read_csv(\"https://raw.githubusercontent.com/nychealth/coronavirus-data/master/by-boro.csv\",skipfooter=1,engine='python')"
   ]
  },
  {
   "cell_type": "code",
   "execution_count": 150,
   "metadata": {},
   "outputs": [],
   "source": [
    "if tdst == df_NY_confirmed.columns[-1]:\n",
    "    print ('not updated yet')\n",
    "   # new_date='{dt.month}/{dt.day}/{dt:%y}'.format(dt = datetime.now())\n",
    "   # new_date='{dt.month}/{dt.day}/{dt:%y}'.format(dt = datetime.now()-timedelta(1)\n",
    "    #df_NY_confirmed[new_date]=df_NY_new['CASE_COUNT']\n",
    "    #df_NY_deaths[new_date]=df_NY_new['DEATH_COUNT']\n",
    "else:\n",
    "    df_NY_confirmed[tdst]=df_NY_new['CASE_COUNT']\n",
    "    df_NY_deaths[tdst]=df_NY_new['DEATH_COUNT']"
   ]
  },
  {
   "cell_type": "code",
   "execution_count": 151,
   "metadata": {},
   "outputs": [
    {
     "name": "stdout",
     "output_type": "stream",
     "text": [
      "7/14/20\n",
      "7/15/20\n",
      "7/16/20\n",
      "7/17/20\n",
      "7/18/20\n",
      "7/19/20\n",
      "7/20/20\n",
      "7/21/20\n",
      "7/22/20\n",
      "7/23/20\n",
      "7/24/20\n",
      "7/25/20\n",
      "7/26/20\n",
      "7/27/20\n",
      "7/28/20\n"
     ]
    }
   ],
   "source": [
    "#15 days time-series\n",
    "for days in df_Counties_confirmed.columns[:15]:\n",
    "    print (days)\n",
    "    df_Counties_confirmed.loc[df_Counties_confirmed.FIPS==df_NY_confirmed.iloc[0,0],days]=df_NY_confirmed.loc[0][days]\n",
    "    df_Counties_confirmed.loc[df_Counties_confirmed.FIPS==df_NY_confirmed.iloc[1,0],days]=df_NY_confirmed.loc[1][days]\n",
    "    df_Counties_confirmed.loc[df_Counties_confirmed.FIPS==df_NY_confirmed.iloc[2,0],days]=df_NY_confirmed.loc[2][days]\n",
    "    df_Counties_confirmed.loc[df_Counties_confirmed.FIPS==df_NY_confirmed.iloc[3,0],days]=df_NY_confirmed.loc[3][days]\n",
    "    df_Counties_confirmed.loc[df_Counties_confirmed.FIPS==df_NY_confirmed.iloc[4,0],days]=df_NY_confirmed.loc[4][days]\n"
   ]
  },
  {
   "cell_type": "code",
   "execution_count": 152,
   "metadata": {},
   "outputs": [],
   "source": [
    "#calcualte new cases for 14 days\n",
    "df_Counties_confirmed['NewCaseDay01']=df_Counties_confirmed.iloc[:,1]-df_Counties_confirmed.iloc[:,0]\n",
    "df_Counties_confirmed['NewCaseDay02']=df_Counties_confirmed.iloc[:,2]-df_Counties_confirmed.iloc[:,1]\n",
    "df_Counties_confirmed['NewCaseDay03']=df_Counties_confirmed.iloc[:,3]-df_Counties_confirmed.iloc[:,2]\n",
    "df_Counties_confirmed['NewCaseDay04']=df_Counties_confirmed.iloc[:,4]-df_Counties_confirmed.iloc[:,3]\n",
    "df_Counties_confirmed['NewCaseDay05']=df_Counties_confirmed.iloc[:,5]-df_Counties_confirmed.iloc[:,4]\n",
    "df_Counties_confirmed['NewCaseDay06']=df_Counties_confirmed.iloc[:,6]-df_Counties_confirmed.iloc[:,5]\n",
    "df_Counties_confirmed['NewCaseDay07']=df_Counties_confirmed.iloc[:,7]-df_Counties_confirmed.iloc[:,6]\n",
    "df_Counties_confirmed['NewCaseDay08']=df_Counties_confirmed.iloc[:,8]-df_Counties_confirmed.iloc[:,7]\n",
    "df_Counties_confirmed['NewCaseDay09']=df_Counties_confirmed.iloc[:,9]-df_Counties_confirmed.iloc[:,8]\n",
    "df_Counties_confirmed['NewCaseDay10']=df_Counties_confirmed.iloc[:,10]-df_Counties_confirmed.iloc[:,9]\n",
    "df_Counties_confirmed['NewCaseDay11']=df_Counties_confirmed.iloc[:,11]-df_Counties_confirmed.iloc[:,10]\n",
    "df_Counties_confirmed['NewCaseDay12']=df_Counties_confirmed.iloc[:,12]-df_Counties_confirmed.iloc[:,11]\n",
    "df_Counties_confirmed['NewCaseDay13']=df_Counties_confirmed.iloc[:,13]-df_Counties_confirmed.iloc[:,12]\n",
    "df_Counties_confirmed['NewCases']=df_Counties_confirmed.iloc[:,14]-df_Counties_confirmed.iloc[:,13]"
   ]
  },
  {
   "cell_type": "code",
   "execution_count": 153,
   "metadata": {},
   "outputs": [],
   "source": [
    "#clean confirmed file\n",
    "#df_Counties_confirmed.columns[-19:]\n",
    "df_Counties_confirmed=df_Counties_confirmed[df_Counties_confirmed.columns[-19:]]"
   ]
  },
  {
   "cell_type": "code",
   "execution_count": 154,
   "metadata": {},
   "outputs": [],
   "source": [
    "#calculate new deaths\n",
    "pre_day=df_Counties_deaths.columns[-2]\n",
    "df_Counties_deaths=df_Counties_deaths[[pre_day,tdst,'FIPS']]"
   ]
  },
  {
   "cell_type": "code",
   "execution_count": 155,
   "metadata": {},
   "outputs": [
    {
     "name": "stdout",
     "output_type": "stream",
     "text": [
      "7/27/20\n",
      "7/28/20\n"
     ]
    }
   ],
   "source": [
    "\n",
    "for days in df_Counties_deaths.columns[:2]:\n",
    "    print (days)\n",
    "    df_Counties_deaths.loc[df_Counties_deaths.FIPS==df_NY_deaths.iloc[0,0],days]=df_NY_deaths.loc[0][days]\n",
    "    df_Counties_deaths.loc[df_Counties_deaths.FIPS==df_NY_deaths.iloc[1,0],days]=df_NY_deaths.loc[1][days]\n",
    "    df_Counties_deaths.loc[df_Counties_deaths.FIPS==df_NY_deaths.iloc[2,0],days]=df_NY_deaths.loc[2][days]\n",
    "    df_Counties_deaths.loc[df_Counties_deaths.FIPS==df_NY_deaths.iloc[3,0],days]=df_NY_deaths.loc[3][days]\n",
    "    df_Counties_deaths.loc[df_Counties_deaths.FIPS==df_NY_deaths.iloc[4,0],days]=df_NY_deaths.loc[4][days]"
   ]
  },
  {
   "cell_type": "code",
   "execution_count": 156,
   "metadata": {},
   "outputs": [],
   "source": [
    "df_Counties_deaths['NewDeaths']=df_Counties_deaths.iloc[:,1]-df_Counties_deaths.iloc[:,0]\n",
    "df_Counties_deaths.drop(columns={pre_day},inplace=True)"
   ]
  },
  {
   "cell_type": "code",
   "execution_count": 157,
   "metadata": {},
   "outputs": [],
   "source": [
    "#tdst=df_Counties_confirmed.columns[-1]\n",
    "\n",
    "df_Counties=pd.merge(df_Counties_confirmed,df_Counties_deaths,how='left',on='FIPS',suffixes=('_confirmed','_deaths'))\n",
    "#df_Counties.head(2)\n",
    "df_Counties.rename(columns={tdst+'_confirmed':'Confirmed',tdst+'_deaths':'Deaths'},inplace=True) "
   ]
  },
  {
   "cell_type": "code",
   "execution_count": 158,
   "metadata": {},
   "outputs": [
    {
     "name": "stderr",
     "output_type": "stream",
     "text": [
      "/opt/anaconda3/lib/python3.7/site-packages/ipykernel_launcher.py:6: SettingWithCopyWarning: \n",
      "A value is trying to be set on a copy of a slice from a DataFrame.\n",
      "Try using .loc[row_indexer,col_indexer] = value instead\n",
      "\n",
      "See the caveats in the documentation: https://pandas.pydata.org/pandas-docs/stable/user_guide/indexing.html#returning-a-view-versus-a-copy\n",
      "  \n",
      "/opt/anaconda3/lib/python3.7/site-packages/ipykernel_launcher.py:7: SettingWithCopyWarning: \n",
      "A value is trying to be set on a copy of a slice from a DataFrame.\n",
      "Try using .loc[row_indexer,col_indexer] = value instead\n",
      "\n",
      "See the caveats in the documentation: https://pandas.pydata.org/pandas-docs/stable/user_guide/indexing.html#returning-a-view-versus-a-copy\n",
      "  import sys\n",
      "/opt/anaconda3/lib/python3.7/site-packages/ipykernel_launcher.py:8: SettingWithCopyWarning: \n",
      "A value is trying to be set on a copy of a slice from a DataFrame.\n",
      "Try using .loc[row_indexer,col_indexer] = value instead\n",
      "\n",
      "See the caveats in the documentation: https://pandas.pydata.org/pandas-docs/stable/user_guide/indexing.html#returning-a-view-versus-a-copy\n",
      "  \n",
      "/opt/anaconda3/lib/python3.7/site-packages/ipykernel_launcher.py:9: SettingWithCopyWarning: \n",
      "A value is trying to be set on a copy of a slice from a DataFrame.\n",
      "Try using .loc[row_indexer,col_indexer] = value instead\n",
      "\n",
      "See the caveats in the documentation: https://pandas.pydata.org/pandas-docs/stable/user_guide/indexing.html#returning-a-view-versus-a-copy\n",
      "  if __name__ == '__main__':\n",
      "/opt/anaconda3/lib/python3.7/site-packages/ipykernel_launcher.py:10: SettingWithCopyWarning: \n",
      "A value is trying to be set on a copy of a slice from a DataFrame.\n",
      "Try using .loc[row_indexer,col_indexer] = value instead\n",
      "\n",
      "See the caveats in the documentation: https://pandas.pydata.org/pandas-docs/stable/user_guide/indexing.html#returning-a-view-versus-a-copy\n",
      "  # Remove the CWD from sys.path while we load stuff.\n",
      "/opt/anaconda3/lib/python3.7/site-packages/ipykernel_launcher.py:11: SettingWithCopyWarning: \n",
      "A value is trying to be set on a copy of a slice from a DataFrame.\n",
      "Try using .loc[row_indexer,col_indexer] = value instead\n",
      "\n",
      "See the caveats in the documentation: https://pandas.pydata.org/pandas-docs/stable/user_guide/indexing.html#returning-a-view-versus-a-copy\n",
      "  # This is added back by InteractiveShellApp.init_path()\n"
     ]
    },
    {
     "data": {
      "text/html": [
       "<div>\n",
       "<style scoped>\n",
       "    .dataframe tbody tr th:only-of-type {\n",
       "        vertical-align: middle;\n",
       "    }\n",
       "\n",
       "    .dataframe tbody tr th {\n",
       "        vertical-align: top;\n",
       "    }\n",
       "\n",
       "    .dataframe thead th {\n",
       "        text-align: right;\n",
       "    }\n",
       "</style>\n",
       "<table border=\"1\" class=\"dataframe\">\n",
       "  <thead>\n",
       "    <tr style=\"text-align: right;\">\n",
       "      <th></th>\n",
       "      <th>FIPS</th>\n",
       "      <th>NAME</th>\n",
       "      <th>State</th>\n",
       "      <th>Age_85</th>\n",
       "      <th>Age_80_84</th>\n",
       "      <th>Age_75_79</th>\n",
       "      <th>Age_70_74</th>\n",
       "      <th>Age_65_69</th>\n",
       "      <th>AgedPop</th>\n",
       "    </tr>\n",
       "  </thead>\n",
       "  <tbody>\n",
       "    <tr>\n",
       "      <th>0</th>\n",
       "      <td>1001</td>\n",
       "      <td>Autauga County</td>\n",
       "      <td>Alabama</td>\n",
       "      <td>815</td>\n",
       "      <td>1026</td>\n",
       "      <td>1498</td>\n",
       "      <td>2440</td>\n",
       "      <td>2271</td>\n",
       "      <td>8050</td>\n",
       "    </tr>\n",
       "    <tr>\n",
       "      <th>1</th>\n",
       "      <td>1003</td>\n",
       "      <td>Baldwin County</td>\n",
       "      <td>Alabama</td>\n",
       "      <td>3949</td>\n",
       "      <td>4792</td>\n",
       "      <td>7373</td>\n",
       "      <td>11410</td>\n",
       "      <td>13141</td>\n",
       "      <td>40665</td>\n",
       "    </tr>\n",
       "  </tbody>\n",
       "</table>\n",
       "</div>"
      ],
      "text/plain": [
       "   FIPS            NAME    State  Age_85  Age_80_84  Age_75_79  Age_70_74  \\\n",
       "0  1001  Autauga County  Alabama     815       1026       1498       2440   \n",
       "1  1003  Baldwin County  Alabama    3949       4792       7373      11410   \n",
       "\n",
       "   Age_65_69  AgedPop  \n",
       "0       2271     8050  \n",
       "1      13141    40665  "
      ]
     },
     "execution_count": 158,
     "metadata": {},
     "output_type": "execute_result"
    }
   ],
   "source": [
    "#census and health data from ESRI\n",
    "df_ACS1=pd.read_excel(covid19Root + r'/ACS_2014-2018_Fields.xlsx')\n",
    "df_ACSState=pd.read_excel(covid19Root + r'/ACS_State_Final_ToExcel_noMOE.xlsx')\n",
    "df_ACSCounty=pd.read_excel(covid19Root + r'/ACS_County_Final_ToExcel_noMOE.xlsx')\n",
    "df_ACSCounty1=df_ACSCounty[['FIPS', 'NAME', 'State']]\n",
    "df_ACSCounty1['Age_85']=df_ACSCounty['B01001_049E']+df_ACSCounty['B01001_025E']\n",
    "df_ACSCounty1['Age_80_84']=df_ACSCounty['B01001_048E']+df_ACSCounty['B01001_024E']\n",
    "df_ACSCounty1['Age_75_79']=df_ACSCounty['B01001_047E']+df_ACSCounty['B01001_023E']\n",
    "df_ACSCounty1['Age_70_74']=df_ACSCounty['B01001_046E']+df_ACSCounty['B01001_022E']\n",
    "df_ACSCounty1['Age_65_69']=df_ACSCounty['B01001_045E']+df_ACSCounty['B01001_021E']+df_ACSCounty['B01001_044E']+df_ACSCounty['B01001_020E']\n",
    "df_ACSCounty1['AgedPop']=df_ACSCounty1['Age_85']+df_ACSCounty1['Age_80_84']+df_ACSCounty1['Age_75_79']+df_ACSCounty1['Age_70_74']+df_ACSCounty1['Age_65_69']\n",
    "df_ACSCounty1.head(2)"
   ]
  },
  {
   "cell_type": "code",
   "execution_count": 159,
   "metadata": {},
   "outputs": [
    {
     "name": "stderr",
     "output_type": "stream",
     "text": [
      "/opt/anaconda3/lib/python3.7/site-packages/pandas/core/frame.py:4133: SettingWithCopyWarning: \n",
      "A value is trying to be set on a copy of a slice from a DataFrame\n",
      "\n",
      "See the caveats in the documentation: https://pandas.pydata.org/pandas-docs/stable/user_guide/indexing.html#returning-a-view-versus-a-copy\n",
      "  errors=errors,\n"
     ]
    },
    {
     "data": {
      "text/plain": [
       "(2480, 14)"
      ]
     },
     "execution_count": 159,
     "metadata": {},
     "output_type": "execute_result"
    }
   ],
   "source": [
    "df_Healthcare=pd.read_excel(covid19Root + r'/Definitive_Healthcare_Hospital_Beds_By_County_and_Demographics.xlsx',\n",
    "                            sheet_name= 'Sheet2',skiprows=2)\n",
    "df_Healthcare1=df_Healthcare[['Row Labels', 'Sum of NUM_LICENSED_BEDS', 'Sum of NUM_STAFFED_BEDS',\n",
    "       'Sum of NUM_ICU_BEDS','Sum of AVG_VENTILATOR_USAGE']]\n",
    "   #                           'ID','Sum # of Licensed Beds', 'Sum # of Staffed Beds', 'Sum # of ICU Beds','Average Average Ventilator Usage']]\n",
    "df_Healthcare1.rename(columns={'Row Labels':'ID','Sum of NUM_LICENSED_BEDS':'Beds_Licensed','Sum of NUM_STAFFED_BEDS':'Beds_Staffed','Sum of NUM_ICU_BEDS':'Beds_ICU',\n",
    "                             'Sum of AVG_VENTILATOR_USAGE':'Ventilators_Average' },inplace=True)\n",
    "df_CountyHealth=pd.merge(df_ACSCounty1,df_Healthcare1,how='inner',left_on='FIPS',right_on='ID')\n",
    "df_CountyHealth.shape"
   ]
  },
  {
   "cell_type": "code",
   "execution_count": 160,
   "metadata": {},
   "outputs": [],
   "source": [
    "#Merge JHU data with Esri County data, left join to keep all the confirmed cases\n",
    "df_Counties1=pd.merge(df_Counties,df_CountyHealth,how='left',left_on='FIPS',right_on='FIPS') "
   ]
  },
  {
   "cell_type": "code",
   "execution_count": 161,
   "metadata": {},
   "outputs": [],
   "source": [
    "#import demographic info  https://data.census.gov/cedsci/  data source: https://www.ers.usda.gov/data-products/county-level-data-sets/download-data/\n",
    "df_pop=pd.read_excel(covid19Root + '/PopulationEstimates.xls',skiprows=2)\n",
    "df_poverty=pd.read_excel(covid19Root + '/PovertyEstimates.xls',skiprows=4)\n",
    "#df_edu=pd.read_excel(covid19Root + '/Education.xls',skiprows=4)\n",
    "df_eco=pd.read_excel(covid19Root + '/employment.xls',skiprows=4)"
   ]
  },
  {
   "cell_type": "code",
   "execution_count": 162,
   "metadata": {},
   "outputs": [],
   "source": [
    "df_eco=df_eco.drop(df_eco.index[0])\n",
    "df_poverty=df_poverty.drop(df_poverty.index[0])\n",
    "df_pop=df_pop.drop(df_pop.index[0])\n",
    "#df_eco.head(2)"
   ]
  },
  {
   "cell_type": "code",
   "execution_count": 163,
   "metadata": {},
   "outputs": [],
   "source": [
    "#Select columns from demo data\n",
    "df_pop1=df_pop[['FIPS','POP_ESTIMATE_2018']]\n",
    "df_poverty1=df_poverty[['FIPStxt','POVALL_2018','PCTPOVALL_2018']]\n",
    "#df_edu1=df_edu[[]]\n",
    "df_eco1=df_eco[['FIPS','Unemployed_2018','Unemployment_rate_2018','Median_Household_Income_2018','Med_HH_Income_Percent_of_State_Total_2018']]"
   ]
  },
  {
   "cell_type": "code",
   "execution_count": 164,
   "metadata": {},
   "outputs": [],
   "source": [
    "#merge demo data\n",
    "demo1=pd.merge(df_pop1,df_poverty1,how='left',left_on='FIPS',right_on='FIPStxt')\n",
    "demo2=pd.merge(demo1,df_eco1,how='right',left_on='FIPS',right_on='FIPS')"
   ]
  },
  {
   "cell_type": "code",
   "execution_count": 165,
   "metadata": {},
   "outputs": [],
   "source": [
    "#merge JHU,Esri, Demo data\n",
    "USCounties1=pd.merge(df_Counties1,demo2,how='left',left_on='FIPS',right_on='FIPS')"
   ]
  },
  {
   "cell_type": "code",
   "execution_count": 166,
   "metadata": {},
   "outputs": [
    {
     "name": "stdout",
     "output_type": "stream",
     "text": [
      "07-28-2020\n"
     ]
    },
    {
     "data": {
      "text/plain": [
       "1355363"
      ]
     },
     "execution_count": 166,
     "metadata": {},
     "output_type": "execute_result"
    }
   ],
   "source": [
    "#import the most recent daily data from https://github.com/CSSEGISandData/COVID-19/tree/master/csse_covid_19_data/csse_covid_19_daily_reports\n",
    "td=datetime.strftime(datetime.now()-timedelta(1), '%m-%d-%Y')\n",
    "#td=datetime.strftime(datetime.now(), '%m-%d-%Y')\n",
    "print (str(td))\n",
    "#df_new=pd.read_csv(\"https://raw.githubusercontent.com/CSSEGISandData/COVID-19/master/csse_covid_19_data/csse_covid_19_daily_reports/\"+str(td)+\".csv\")\n",
    "df_new=pd.read_csv(\"https://raw.githubusercontent.com/CSSEGISandData/COVID-19/master/csse_covid_19_data/csse_covid_19_daily_reports/\"+str(td)+\".csv\")\n",
    "df_USnew=df_new[df_new['Country_Region']=='US']\n",
    "dfStates=pd.pivot_table(df_USnew,values=['Confirmed', 'Deaths', 'Recovered',\n",
    "       'Active'],index=['Province_State'],aggfunc=np.sum)\n",
    "dfStates.rename(columns={'Confirmed':'State_Confirmed','Deaths':'State_Deaths','Recovered':'State_Recovered'},inplace=True)\n",
    "#dfStates['State_Testing']=999\n",
    "dfStates.reset_index(inplace=True)\n",
    "dfStates.State_Recovered.sum()"
   ]
  },
  {
   "cell_type": "code",
   "execution_count": 167,
   "metadata": {},
   "outputs": [],
   "source": [
    "#dfStates"
   ]
  },
  {
   "cell_type": "code",
   "execution_count": 168,
   "metadata": {},
   "outputs": [],
   "source": [
    "#merge UScounties1 with state data\n",
    "USCounties2=pd.merge(USCounties1,dfStates,how='outer',left_on='State',right_on='Province_State')"
   ]
  },
  {
   "cell_type": "code",
   "execution_count": 169,
   "metadata": {},
   "outputs": [],
   "source": [
    "#import Red Cross\n",
    "dfRC=pd.read_csv(covid19Root + r'/Red_Cross_Centroids_for_COVID19_Public_Health_Emergency_Status_by_County_0.csv')"
   ]
  },
  {
   "cell_type": "code",
   "execution_count": 170,
   "metadata": {},
   "outputs": [
    {
     "name": "stderr",
     "output_type": "stream",
     "text": [
      "/opt/anaconda3/lib/python3.7/site-packages/pandas/core/indexing.py:966: SettingWithCopyWarning: \n",
      "A value is trying to be set on a copy of a slice from a DataFrame.\n",
      "Try using .loc[row_indexer,col_indexer] = value instead\n",
      "\n",
      "See the caveats in the documentation: https://pandas.pydata.org/pandas-docs/stable/user_guide/indexing.html#returning-a-view-versus-a-copy\n",
      "  self.obj[item] = s\n"
     ]
    }
   ],
   "source": [
    "dfRC1=dfRC[['FIPS','Notes','Last Update', 'Local Public Emergency']]\n",
    "dfRC1.loc[dfRC1['Local Public Emergency']=='Red','Local Public Emergency']= 'Govt Ordered Community Quarantine'\n",
    "dfRC1.loc[dfRC1['Local Public Emergency']=='Orange','Local Public Emergency']= 'Govt Directed Social Distancing'\n",
    "dfRC1.loc[dfRC1['Local Public Emergency']=='Yellow','Local Public Emergency']= 'Declared Public Health Emergency'"
   ]
  },
  {
   "cell_type": "code",
   "execution_count": 171,
   "metadata": {},
   "outputs": [
    {
     "data": {
      "text/plain": [
       "array(['Govt Ordered Community Quarantine',\n",
       "       'Govt Directed Social Distancing',\n",
       "       'Declared Public Health Emergency'], dtype=object)"
      ]
     },
     "execution_count": 171,
     "metadata": {},
     "output_type": "execute_result"
    }
   ],
   "source": [
    "dfRC1['Local Public Emergency'].unique()"
   ]
  },
  {
   "cell_type": "code",
   "execution_count": 172,
   "metadata": {},
   "outputs": [],
   "source": [
    "dfRC1.rename(columns={'Notes':'EM_notes','Last Update':'EM_date','Local Public Emergency':'EM_type'},inplace=True)"
   ]
  },
  {
   "cell_type": "code",
   "execution_count": 173,
   "metadata": {},
   "outputs": [],
   "source": [
    "#merge UScounties2 with RC data\n",
    "USCounties3=pd.merge(USCounties2, dfRC1,how='left',left_on='FIPS',right_on='FIPS')"
   ]
  },
  {
   "cell_type": "code",
   "execution_count": 174,
   "metadata": {},
   "outputs": [],
   "source": [
    "#import US Counties, State shp file downloaded from Esri\n",
    "US_Counties=gpd.read_file(covid19Root + r\"/JHUCounties.shp\")\n",
    "US_Counties.rename(columns={'NAME':'Countyname','COUNTYFP':'CountyFP'},inplace=True)\n",
    "US_Counties['GEOID']=US_Counties['GEOID'].astype(float)"
   ]
  },
  {
   "cell_type": "code",
   "execution_count": 175,
   "metadata": {},
   "outputs": [],
   "source": [
    "#import state testing data from https://covidtracking.com/api/states\n",
    "dfStatesTesting=pd.read_json('https://covidtracking.com/api/v1/states/current.json')\n",
    "dfStatesTesting=dfStatesTesting[['state','total','dateChecked']]\n",
    "dfStatesTesting.rename(columns={'total':'State_Testing','dateChecked':'DateChecked'},inplace=True)"
   ]
  },
  {
   "cell_type": "code",
   "execution_count": 176,
   "metadata": {},
   "outputs": [],
   "source": [
    "#Merge with state testing data\n",
    "USCounties=pd.merge(US_Counties,dfStatesTesting,how='left',left_on='ST_Abbr',right_on='state')"
   ]
  },
  {
   "cell_type": "code",
   "execution_count": 177,
   "metadata": {},
   "outputs": [],
   "source": [
    "#Import Race data\n",
    "#USCounties_pre=gpd.read_file(r\"C:\\Work_GovEx\\COVID-19\\Daily Data\\USCounties_JHUmap_05_05\\USCounties_JHUmap.shp\")\n",
    "Counties_race=pd.read_csv(covid19Root + r'/County_ShpHeaders.csv')\n",
    "Race_Age=pd.read_csv(covid19Root + r'/Race_Age.csv')"
   ]
  },
  {
   "cell_type": "code",
   "execution_count": 178,
   "metadata": {},
   "outputs": [],
   "source": [
    "Race_Agemerge=pd.merge(Counties_race,Race_Age,how='left',left_on='GEOIDFIPS',right_on='FIPS')"
   ]
  },
  {
   "cell_type": "code",
   "execution_count": 179,
   "metadata": {},
   "outputs": [],
   "source": [
    "USCountiesm1=pd.merge(USCounties,Race_Agemerge,how='left',left_on='GEOID',right_on='GEOIDFIPS')"
   ]
  },
  {
   "cell_type": "code",
   "execution_count": 180,
   "metadata": {},
   "outputs": [],
   "source": [
    "USCountiesm1=USCountiesm1[['Countyname', 'GEOID', 'ST_Abbr', 'ST_ID', 'ST_Name', 'geometry',\n",
    "       'state', 'State_Testing', 'DateChecked', 'ObjectID', 'CountyGNIS',\n",
    "       'GEOIDFIPS', 'TotalPop',\n",
    "       'NonHispWhPop',  'BlackPop',\n",
    "      'AmIndop',  'AsianPop', \n",
    "       'PacIslPop',  'OtherPop',  'TwoMorPop',\n",
    "       'HispPop',  'PCPopNWh', \n",
    "       'PCPopBk', 'PCPopAI', 'PCPopAs',\n",
    "      'PPCPopPI',  'PCPopOr', \n",
    "       'PCPopTm',  'PCPopHL',\n",
    "       'racePop_total', 'White alone',\n",
    "       'Black or African American alone',\n",
    "       'American Indian and Alaska Native alone', 'Asian alone',\n",
    "       'Native Hawaiian and Other Pacific Islander alone',\n",
    "       'Some other race alone', 'Two or more races',\n",
    "       'Not Hispanic or Latino origin', 'Hispanic or Latino Origin',\n",
    "       'Age_under15', 'Age_15_24', 'Age_25_34', 'Age_35_64', 'Age_65_74',\n",
    "       'Age_over75', 'Agetotal' ]]"
   ]
  },
  {
   "cell_type": "code",
   "execution_count": 181,
   "metadata": {},
   "outputs": [],
   "source": [
    "#join the Countyshp and State testing file with USCounties3\n",
    "USCounties4=pd.merge(USCountiesm1,USCounties3,how='right',left_on='GEOID',right_on='FIPS')\n",
    "#USCounties1=pd.merge(US_Counties,df_USnew,how='left',left_on='forjoin',right_on='Combined_Key1')"
   ]
  },
  {
   "cell_type": "code",
   "execution_count": 182,
   "metadata": {},
   "outputs": [],
   "source": [
    "#Add calcuations\n",
    "USCounties4['FatalityRate']=USCounties4['Deaths']/USCounties4['Confirmed']*100\n",
    "USCounties4['ConfirmedbyPop']=USCounties4['Confirmed']/USCounties4['POP_ESTIMATE_2018']*100000\n",
    "USCounties4['DeathsbyPop']=USCounties4['Deaths']/USCounties4['POP_ESTIMATE_2018']*100000\n",
    "USCounties4['State_FatalityRate']=USCounties4['State_Deaths']/USCounties4['State_Confirmed']*100\n",
    "USCounties4['Recovered']=0  # place holder\n",
    "USCounties4['Active']=0   #place holder\n",
    "USCounties4['url']='infUrl' #place holder\n",
    "USCounties4['Thumbnail']='placeholder' #place holder\n"
   ]
  },
  {
   "cell_type": "code",
   "execution_count": 183,
   "metadata": {},
   "outputs": [],
   "source": [
    "USCounties4['ConfirmedbyPop']=USCounties4['ConfirmedbyPop'].round(2)"
   ]
  },
  {
   "cell_type": "code",
   "execution_count": 184,
   "metadata": {},
   "outputs": [],
   "source": [
    "#select columns\n",
    "USCounties4=USCounties4[['Admin2', 'Province_State_x','ST_Abbr', 'ST_ID',  'geometry',\n",
    "       'FIPS', 'FatalityRate', 'ConfirmedbyPop','DeathsbyPop', 'PCTPOVALL_2018', \n",
    "         'Unemployment_rate_2018', 'Med_HH_Income_Percent_of_State_Total_2018',\n",
    "       'State_FatalityRate', 'DateChecked',\n",
    "        'EM_type', 'EM_date','EM_notes','url', 'Thumbnail', 'Confirmed',  'Deaths',\n",
    "        'Age_85', 'Age_80_84', 'Age_75_79', 'Age_70_74', 'Age_65_69',  \n",
    "        'Beds_Licensed', 'Beds_Staffed','Beds_ICU', 'Ventilators_Average', \n",
    "        'POP_ESTIMATE_2018','POVALL_2018', 'Unemployed_2018','Median_Household_Income_2018',\n",
    "        'Recovered', 'Active', 'State_Confirmed', 'State_Deaths', 'State_Recovered',\n",
    "       'State_Testing',  'AgedPop','NewCases','NewDeaths','TotalPop', 'NonHispWhPop', 'BlackPop', 'AmIndop',\n",
    "       'AsianPop', 'PacIslPop', 'OtherPop', 'TwoMorPop', 'HispPop', 'PCPopNWh',\n",
    "       'PCPopBk', 'PCPopAI', 'PCPopAs', 'PPCPopPI', 'PCPopOr', 'PCPopTm',\n",
    "       'PCPopHL','racePop_total', 'White alone',\n",
    "       'Black or African American alone',\n",
    "       'American Indian and Alaska Native alone', 'Asian alone',\n",
    "       'Native Hawaiian and Other Pacific Islander alone',\n",
    "       'Some other race alone', 'Two or more races',\n",
    "       'Not Hispanic or Latino origin', 'Hispanic or Latino Origin',\n",
    "       'Age_under15', 'Age_15_24', 'Age_25_34', 'Age_35_64', 'Age_65_74',\n",
    "       'Age_over75', 'Agetotal']]\n",
    "USCounties4.rename(columns={'Admin2':'Countyname'},inplace=True)\n",
    "USCounties4.rename(columns={'Province_State_x':'ST_Name'},inplace=True)"
   ]
  },
  {
   "cell_type": "code",
   "execution_count": 185,
   "metadata": {},
   "outputs": [],
   "source": [
    "USCounties4['FIPS']=USCounties4['FIPS'].fillna(0).astype(int)\n",
    "USCounties4['FIPS']=USCounties4['FIPS'].apply(str).str.pad(width=5, side='left', fillchar='0')\n",
    "USCounties4['Age_85']=USCounties4['Age_85'].fillna(0).astype(int)\n",
    "USCounties4['Age_80_84']=USCounties4['Age_80_84'].fillna(0).astype(int)\n",
    "USCounties4['Age_75_79']=USCounties4['Age_75_79'].fillna(0).astype(int)\n",
    "USCounties4['Age_70_74']=USCounties4['Age_70_74'].fillna(0).astype(int)\n",
    "USCounties4['Age_65_69']=USCounties4['Age_65_69'].fillna(0).astype(int)\n",
    "USCounties4['AgedPop']=USCounties4['AgedPop'].fillna(0).astype(int)\n",
    "USCounties4['Beds_Licensed']=USCounties4['Beds_Licensed'].fillna(0).astype(int)\n",
    "USCounties4['Beds_ICU']=USCounties4['Beds_ICU'].fillna(0).astype(int)\n",
    "USCounties4['Beds_Staffed']=USCounties4['Beds_Staffed'].fillna(0).astype(int)\n",
    "# USCounties4['NewCases']=USCounties4['NewCases'].fillna(0).astype(int)\n",
    "# USCounties4['NewDeaths']=USCounties4['NewDeaths'].fillna(0).astype(int)\n",
    "USCounties4[['Confirmed', 'Deaths',\n",
    " 'Ventilators_Average',\n",
    "       'POP_ESTIMATE_2018', 'POVALL_2018',  'Unemployed_2018',\n",
    "        'Median_Household_Income_2018', 'Recovered', 'Active',\n",
    "       'State_Confirmed', 'State_Deaths', 'State_Recovered',\n",
    "        'State_Testing']]=USCounties4[['Confirmed', 'Deaths', \n",
    "        'Ventilators_Average',\n",
    "       'POP_ESTIMATE_2018', 'POVALL_2018',  'Unemployed_2018',\n",
    "        'Median_Household_Income_2018', 'Recovered', 'Active',\n",
    "       'State_Confirmed', 'State_Deaths', 'State_Recovered',\n",
    "        'State_Testing']].fillna(0).astype(int)\n"
   ]
  },
  {
   "cell_type": "code",
   "execution_count": 186,
   "metadata": {},
   "outputs": [],
   "source": [
    "#Add url and Thumbnail columns\n",
    "fiplist=USCounties4['FIPS'].tolist()\n",
    "urllist=list()\n",
    "for i in fiplist:\n",
    "    url0='https://bao.arcgis.com/covid-19/jhu/county/'+i+'.html'\n",
    "    urllist.append(url0)\n",
    "USCounties4['url']=urllist\n",
    "USCounties4['Thumbnail']=\"https://coronavirus.jhu.edu/static/media/dashboard_infographic_thumbnail.png\""
   ]
  },
  {
   "cell_type": "code",
   "execution_count": 187,
   "metadata": {},
   "outputs": [
    {
     "name": "stdout",
     "output_type": "stream",
     "text": [
      "07/29/2020 08:51:55\n"
     ]
    },
    {
     "data": {
      "text/plain": [
       "0       07/29/2020 08:51:55\n",
       "1       07/29/2020 08:51:55\n",
       "2       07/29/2020 08:51:55\n",
       "3       07/29/2020 08:51:55\n",
       "4       07/29/2020 08:51:55\n",
       "               ...         \n",
       "3253    07/29/2020 08:51:55\n",
       "3254    07/29/2020 08:51:55\n",
       "3255    07/29/2020 08:51:55\n",
       "3256    07/29/2020 08:51:55\n",
       "3257    07/29/2020 08:51:55\n",
       "Name: DateChecked, Length: 3258, dtype: object"
      ]
     },
     "execution_count": 187,
     "metadata": {},
     "output_type": "execute_result"
    }
   ],
   "source": [
    "tdtime=datetime.strftime(datetime.now(), '%m/%d/%Y %H:%M:%S')\n",
    "print (tdtime)\n",
    "USCounties4['DateChecked']=tdtime\n",
    "USCounties4['DateChecked']"
   ]
  },
  {
   "cell_type": "code",
   "execution_count": 188,
   "metadata": {},
   "outputs": [],
   "source": [
    "#reorganize the field and export\n",
    "USCounties4=USCounties4[['Countyname', 'ST_Name','ST_Abbr', 'ST_ID','geometry',\n",
    "       'FIPS', 'FatalityRate', 'ConfirmedbyPop','DeathsbyPop', 'PCTPOVALL_2018', \n",
    "         'Unemployment_rate_2018', 'Med_HH_Income_Percent_of_State_Total_2018',\n",
    "       'State_FatalityRate', 'DateChecked',\n",
    "        'EM_type', 'EM_date','EM_notes','url', 'Thumbnail', 'Confirmed',  'Deaths',\n",
    "        'Age_85', 'Age_80_84', 'Age_75_79', 'Age_70_74', 'Age_65_69',  \n",
    "        'Beds_Licensed', 'Beds_Staffed','Beds_ICU', 'Ventilators_Average', \n",
    "        'POP_ESTIMATE_2018','POVALL_2018', 'Unemployed_2018','Median_Household_Income_2018',\n",
    "        'Recovered', 'Active', 'State_Confirmed', 'State_Deaths', 'State_Recovered',\n",
    "       'State_Testing',  'AgedPop','NewCases', 'NewDeaths','TotalPop',\n",
    "       'NonHispWhPop', 'BlackPop', 'AmIndop', 'AsianPop', 'PacIslPop',\n",
    "       'OtherPop', 'TwoMorPop', 'HispPop', 'PCPopNWh', 'PCPopBk', 'PCPopAI',\n",
    "       'PCPopAs', 'PPCPopPI', 'PCPopOr', 'PCPopTm', 'PCPopHL','racePop_total',\n",
    "       'White alone', 'Black or African American alone',\n",
    "       'American Indian and Alaska Native alone', 'Asian alone',\n",
    "       'Native Hawaiian and Other Pacific Islander alone',\n",
    "       'Some other race alone', 'Two or more races',\n",
    "       'Not Hispanic or Latino origin', 'Hispanic or Latino Origin',\n",
    "       'Age_under15', 'Age_15_24', 'Age_25_34', 'Age_35_64', 'Age_65_74',\n",
    "       'Age_over75', 'Agetotal']]\n"
   ]
  },
  {
   "cell_type": "code",
   "execution_count": 189,
   "metadata": {},
   "outputs": [],
   "source": [
    "USCounties4.rename(columns={'FatalityRate':'FatalityRa','ConfirmedbyPop':'Confirmedb','DeathsbyPop':'DeathsbyPo',\n",
    "                            'PCTPOVALL_2018':'PCTPOVALL_','Unemployment_rate_2018':'Unemployme', \n",
    "                            'Med_HH_Income_Percent_of_State_Total_2018':'Med_HH_Inc',\n",
    "                            'State_FatalityRate':'State_Fata', 'DateChecked':'DateChecke','Beds_Licensed':'Beds_Licen',\n",
    "                            'Ventilators_Average':'Ventilator', 'POP_ESTIMATE_2018':'POP_ESTIMA',\n",
    "                            'POVALL_2018':'POVALL_201', 'Unemployed_2018':'Unemployed',\n",
    "                            'Median_Household_Income_2018':'Median_Hou',\n",
    "                            'State_Confirmed':'State_Conf','State_Deaths':'State_Deat', \n",
    "                            'State_Recovered':'State_Reco','State_Testing':'State_Test',\n",
    "                           'White alone':'Wh_Alone', 'Black or African American alone':'Bk_Alone',\n",
    "                            'American Indian and Alaska Native alone':'AI_Alone', 'Asian alone':'As_Alone',\n",
    "                            'Native Hawaiian and Other Pacific Islander alone':'NH_Alone','Some other race alone':'SO_Alone', \n",
    "                            'Two or more races':'Two_More','Not Hispanic or Latino origin':'Not_Hisp', \n",
    "                            'Hispanic or Latino Origin':'NonHisp',\n",
    "                            'Age_under15':'Age_Less15', 'Age_over75':'Age_Over75',\n",
    "                           },inplace=True)"
   ]
  },
  {
   "cell_type": "code",
   "execution_count": 193,
   "metadata": {},
   "outputs": [],
   "source": [
    "USCounties4.to_file(covid19Root + r'/USCounties_JHUmap.shp')"
   ]
  },
  {
   "cell_type": "code",
   "execution_count": 191,
   "metadata": {},
   "outputs": [],
   "source": [
    "#USCounties4.to_file(r'C:\\Work_GovEx\\COVID-19\\Daily Data\\USCounties_JHUmap_Race_Age_NewCases.shp')"
   ]
  },
  {
   "cell_type": "code",
   "execution_count": 192,
   "metadata": {},
   "outputs": [],
   "source": [
    "# USCounties4.to_file(r'C:\\Work_GovEx\\COVID-19\\Daily Data\\USCounties_JHUmap.shp')\n",
    "# testcheck=gpd.read_file(r'C:\\Work_GovEx\\COVID-19\\Daily Data\\USCounties_JHUmap.shp')\n",
    "# testcheck[ testcheck['Countyname']=='Washington'][['ST_Name','Confirmed','Countyname','NewCases']]"
   ]
  },
  {
   "cell_type": "markdown",
   "metadata": {},
   "source": [
    "# Update CSV"
   ]
  },
  {
   "cell_type": "code",
   "execution_count": 194,
   "metadata": {},
   "outputs": [],
   "source": [
    "#data from github jhu,import the lastest data from timeseries\n",
    "df_Counties_confirmed=pd.read_csv(\"https://raw.githubusercontent.com/CSSEGISandData/COVID-19/master/csse_covid_19_data/csse_covid_19_time_series/time_series_covid19_confirmed_US.csv\")\n",
    "df_Counties_deaths=pd.read_csv(\"https://raw.githubusercontent.com/CSSEGISandData/COVID-19/master/csse_covid_19_data/csse_covid_19_time_series/time_series_covid19_deaths_US.csv\")"
   ]
  },
  {
   "cell_type": "code",
   "execution_count": 195,
   "metadata": {},
   "outputs": [],
   "source": [
    "# Exclude military and extra data added to the end\n",
    "df_Counties_confirmed=df_Counties_confirmed.iloc[:3253]\n",
    "\n",
    "df_Counties_deaths=df_Counties_deaths.iloc[:3253]"
   ]
  },
  {
   "cell_type": "code",
   "execution_count": 196,
   "metadata": {},
   "outputs": [
    {
     "name": "stdout",
     "output_type": "stream",
     "text": [
      "7/28/20\n"
     ]
    }
   ],
   "source": [
    "#check the latest date\n",
    "tdst=df_Counties_confirmed.columns[-1]\n",
    "print (tdst)"
   ]
  },
  {
   "cell_type": "code",
   "execution_count": 197,
   "metadata": {},
   "outputs": [
    {
     "name": "stdout",
     "output_type": "stream",
     "text": [
      "Index(['4/14/20', '4/15/20', '4/16/20', '4/17/20', '4/18/20', '4/19/20',\n",
      "       '4/20/20', '4/21/20', '4/22/20', '4/23/20',\n",
      "       ...\n",
      "       '7/19/20', '7/20/20', '7/21/20', '7/22/20', '7/23/20', '7/24/20',\n",
      "       '7/25/20', '7/26/20', '7/27/20', '7/28/20'],\n",
      "      dtype='object', length=106)\n"
     ]
    }
   ],
   "source": [
    "#replace with NY boroughs files\n",
    "dates_list=df_NY_confirmed.columns[4:]\n",
    "print (dates_list)\n",
    "\n",
    "#df_NY_deaths=pd.read_csv(r'C:\\Work_GovEx\\COVID-19\\Daily Data\\JHU US Map_NY_KC_Duke_Nantucket Counties - Deaths.csv')\n",
    "for days in dates_list:\n",
    "    #print (days)\n",
    "    df_Counties_confirmed.loc[df_Counties_confirmed.FIPS==df_NY_confirmed.iloc[0,0],days]=df_NY_confirmed.loc[0][days]\n",
    "    df_Counties_confirmed.loc[df_Counties_confirmed.FIPS==df_NY_confirmed.iloc[1,0],days]=df_NY_confirmed.loc[1][days]\n",
    "    df_Counties_confirmed.loc[df_Counties_confirmed.FIPS==df_NY_confirmed.iloc[2,0],days]=df_NY_confirmed.loc[2][days]\n",
    "    df_Counties_confirmed.loc[df_Counties_confirmed.FIPS==df_NY_confirmed.iloc[3,0],days]=df_NY_confirmed.loc[3][days]\n",
    "    df_Counties_confirmed.loc[df_Counties_confirmed.FIPS==df_NY_confirmed.iloc[4,0],days]=df_NY_confirmed.loc[4][days]\n",
    "    \n",
    "    df_Counties_deaths.loc[df_Counties_deaths.FIPS==df_NY_deaths.iloc[0,0],days]=df_NY_deaths.loc[0][days]\n",
    "    df_Counties_deaths.loc[df_Counties_deaths.FIPS==df_NY_deaths.iloc[1,0],days]=df_NY_deaths.loc[1][days]\n",
    "    df_Counties_deaths.loc[df_Counties_deaths.FIPS==df_NY_deaths.iloc[2,0],days]=df_NY_deaths.loc[2][days]\n",
    "    df_Counties_deaths.loc[df_Counties_deaths.FIPS==df_NY_deaths.iloc[3,0],days]=df_NY_deaths.loc[3][days]\n",
    "    df_Counties_deaths.loc[df_Counties_deaths.FIPS==df_NY_deaths.iloc[4,0],days]=df_NY_deaths.loc[4][days]"
   ]
  },
  {
   "cell_type": "code",
   "execution_count": 198,
   "metadata": {},
   "outputs": [],
   "source": [
    "#deaths data has an extra column\n",
    "df_Counties_deaths.drop(columns=['iso2'],inplace=True)\n"
   ]
  },
  {
   "cell_type": "code",
   "execution_count": 199,
   "metadata": {},
   "outputs": [],
   "source": [
    "#convert table\n",
    "def converttable(df):\n",
    "    cols=df.columns.tolist()\n",
    "    pd_list=[]\n",
    "    for i in range(11,df.shape[1]):\n",
    "        temp_cols=cols[:11]\n",
    "        temp_cols.append(cols[i])\n",
    "    # print(temp_cols)\n",
    "        temp_pd=df[temp_cols].copy()\n",
    "        temp_pd['dt']=cols[i]\n",
    "        temp_pd.rename(columns={cols[i]:'value'},inplace=True)\n",
    "        pd_list.append(temp_pd)\n",
    "    df_new=pd.concat(pd_list,axis=0,ignore_index=True)\n",
    "    return df_new"
   ]
  },
  {
   "cell_type": "code",
   "execution_count": 200,
   "metadata": {},
   "outputs": [],
   "source": [
    "df_confirmed_new = converttable(df_Counties_confirmed)\n",
    "df_deaths_new = converttable(df_Counties_deaths)"
   ]
  },
  {
   "cell_type": "code",
   "execution_count": 201,
   "metadata": {},
   "outputs": [],
   "source": [
    "#merge confirmed and deaths data \n",
    "df_confirmed_new['dt']=pd.to_datetime(df_confirmed_new['dt'])\n",
    "df_deaths_new['dt']=pd.to_datetime(df_deaths_new['dt'])\n",
    "# Rename cols\n",
    "df_confirmed_new.rename(columns = {'value': 'confirmed'}, inplace = True)\n",
    "df_deaths_new.rename(columns = {'value': 'deaths'}, inplace = True)\n",
    "# Merge two tables\n",
    "df_merged = df_confirmed_new.merge(df_deaths_new[['Admin2','Province_State', 'Country_Region', 'dt', 'deaths','Population']], \n",
    "                                   on = ['Admin2','Province_State', 'dt'], \n",
    "                                   how = 'inner')\n",
    "df_merged = df_merged[['Admin2','Province_State', 'FIPS', 'dt', 'confirmed', 'deaths','Population']]\n",
    "df_merged['FIPS']=df_merged['FIPS'].fillna(0).astype(int)\n",
    "df_merged['FIPS'] = df_merged['FIPS'].apply(lambda x: '{0:0>5}'.format(x))"
   ]
  },
  {
   "cell_type": "code",
   "execution_count": 202,
   "metadata": {},
   "outputs": [],
   "source": [
    "#merge with shpfiles for geometry info\n",
    "US_Counties=gpd.read_file(covid19Root + r\"/JHUCounties.shp\")\n",
    "df_merged1=pd.merge(df_merged,US_Counties,how='left',left_on='FIPS',right_on='GEOID')\n",
    "\n"
   ]
  },
  {
   "cell_type": "code",
   "execution_count": 203,
   "metadata": {},
   "outputs": [],
   "source": [
    "#select columns and rename\n",
    "df_merged1 = df_merged1[['Admin2','Province_State', 'FIPS','ST_ID','dt', 'confirmed', 'deaths','Population']]\n",
    "df_merged1.rename(columns={'Admin2':'Countyname','Province_State':'ST_Name','ST_ID':'ST_ID','confirmed':'Confirmed','deaths':'Deaths'},inplace=True)\n",
    "#Format FIPS\n",
    "df_merged1['FIPS']=df_merged1['FIPS'].fillna(0).astype(int)\n",
    "df_merged1['FIPS'] = df_merged1['FIPS'].apply(lambda x: '{0:0>5}'.format(x))\n",
    "#calculate IncidenceRate\n",
    "df_merged1['IncidenceRate']=df_merged1['Confirmed']/df_merged1['Population']*100000\n",
    "df_merged1['IncidenceRate']=df_merged1['IncidenceRate'].round(2)\n"
   ]
  },
  {
   "cell_type": "code",
   "execution_count": 204,
   "metadata": {},
   "outputs": [],
   "source": [
    "#calculate new cases\n",
    "\n",
    "# Sort values\n",
    "df_merged1.sort_values(by = ['ST_Name','FIPS', 'dt'], ascending = True, inplace = True)\n",
    "\n",
    "# Differences\n",
    "df_merged1['NewCases'] = df_merged1.groupby(by = ['FIPS']).Confirmed.diff()"
   ]
  },
  {
   "cell_type": "code",
   "execution_count": 205,
   "metadata": {},
   "outputs": [
    {
     "data": {
      "text/html": [
       "<div>\n",
       "<style scoped>\n",
       "    .dataframe tbody tr th:only-of-type {\n",
       "        vertical-align: middle;\n",
       "    }\n",
       "\n",
       "    .dataframe tbody tr th {\n",
       "        vertical-align: top;\n",
       "    }\n",
       "\n",
       "    .dataframe thead th {\n",
       "        text-align: right;\n",
       "    }\n",
       "</style>\n",
       "<table border=\"1\" class=\"dataframe\">\n",
       "  <thead>\n",
       "    <tr style=\"text-align: right;\">\n",
       "      <th></th>\n",
       "      <th>Countyname</th>\n",
       "      <th>ST_Name</th>\n",
       "      <th>FIPS</th>\n",
       "      <th>ST_ID</th>\n",
       "      <th>dt</th>\n",
       "      <th>Confirmed</th>\n",
       "      <th>Deaths</th>\n",
       "      <th>Population</th>\n",
       "      <th>IncidenceRate</th>\n",
       "      <th>NewCases</th>\n",
       "    </tr>\n",
       "  </thead>\n",
       "  <tbody>\n",
       "    <tr>\n",
       "      <th>6584</th>\n",
       "      <td>Autauga</td>\n",
       "      <td>Alabama</td>\n",
       "      <td>01001</td>\n",
       "      <td>01</td>\n",
       "      <td>2020-01-24</td>\n",
       "      <td>0</td>\n",
       "      <td>0</td>\n",
       "      <td>55869</td>\n",
       "      <td>0.0</td>\n",
       "      <td>0.0</td>\n",
       "    </tr>\n",
       "    <tr>\n",
       "      <th>6585</th>\n",
       "      <td>Baldwin</td>\n",
       "      <td>Alabama</td>\n",
       "      <td>01003</td>\n",
       "      <td>01</td>\n",
       "      <td>2020-01-24</td>\n",
       "      <td>0</td>\n",
       "      <td>0</td>\n",
       "      <td>223234</td>\n",
       "      <td>0.0</td>\n",
       "      <td>0.0</td>\n",
       "    </tr>\n",
       "    <tr>\n",
       "      <th>6586</th>\n",
       "      <td>Barbour</td>\n",
       "      <td>Alabama</td>\n",
       "      <td>01005</td>\n",
       "      <td>01</td>\n",
       "      <td>2020-01-24</td>\n",
       "      <td>0</td>\n",
       "      <td>0</td>\n",
       "      <td>24686</td>\n",
       "      <td>0.0</td>\n",
       "      <td>0.0</td>\n",
       "    </tr>\n",
       "    <tr>\n",
       "      <th>6587</th>\n",
       "      <td>Bibb</td>\n",
       "      <td>Alabama</td>\n",
       "      <td>01007</td>\n",
       "      <td>01</td>\n",
       "      <td>2020-01-24</td>\n",
       "      <td>0</td>\n",
       "      <td>0</td>\n",
       "      <td>22394</td>\n",
       "      <td>0.0</td>\n",
       "      <td>0.0</td>\n",
       "    </tr>\n",
       "    <tr>\n",
       "      <th>6588</th>\n",
       "      <td>Blount</td>\n",
       "      <td>Alabama</td>\n",
       "      <td>01009</td>\n",
       "      <td>01</td>\n",
       "      <td>2020-01-24</td>\n",
       "      <td>0</td>\n",
       "      <td>0</td>\n",
       "      <td>57826</td>\n",
       "      <td>0.0</td>\n",
       "      <td>0.0</td>\n",
       "    </tr>\n",
       "  </tbody>\n",
       "</table>\n",
       "</div>"
      ],
      "text/plain": [
       "     Countyname  ST_Name   FIPS ST_ID          dt  Confirmed  Deaths  \\\n",
       "6584    Autauga  Alabama  01001    01  2020-01-24          0       0   \n",
       "6585    Baldwin  Alabama  01003    01  2020-01-24          0       0   \n",
       "6586    Barbour  Alabama  01005    01  2020-01-24          0       0   \n",
       "6587       Bibb  Alabama  01007    01  2020-01-24          0       0   \n",
       "6588     Blount  Alabama  01009    01  2020-01-24          0       0   \n",
       "\n",
       "      Population  IncidenceRate  NewCases  \n",
       "6584       55869            0.0       0.0  \n",
       "6585      223234            0.0       0.0  \n",
       "6586       24686            0.0       0.0  \n",
       "6587       22394            0.0       0.0  \n",
       "6588       57826            0.0       0.0  "
      ]
     },
     "execution_count": 205,
     "metadata": {},
     "output_type": "execute_result"
    }
   ],
   "source": [
    "df_merged1['dt']=pd.to_datetime(df_merged1['dt']).dt.date\n",
    "from datetime import date\n",
    "df_merged1[df_merged1['dt']==date(2020,1,24)].head()"
   ]
  },
  {
   "cell_type": "code",
   "execution_count": 206,
   "metadata": {},
   "outputs": [],
   "source": [
    "# df_merged1['ST_ID']=df_merged1['ST_ID'].fillna(0).astype(int)\n",
    "# df_merged1['ST_ID']=df_merged1['ST_ID'].apply(str).str.pad(width=2, side='left', fillchar='0')\n",
    "# df_merged1['FIPS']=df_merged1['FIPS'].fillna(0).astype(int)\n",
    "# df_merged1['FIPS']=df_merged1['FIPS'].apply(str).str.pad(width=5, side='left', fillchar='0')\n"
   ]
  },
  {
   "cell_type": "code",
   "execution_count": 209,
   "metadata": {},
   "outputs": [],
   "source": [
    "df_merged1.to_csv(covid19RootExport + r'/df_Counties2020.csv')"
   ]
  },
  {
   "cell_type": "code",
   "execution_count": 210,
   "metadata": {},
   "outputs": [],
   "source": [
    "#update the new files\n",
    "df_NY_confirmed.to_csv(covid19Root + r'/NY Boroughs_Confirmed.csv')\n",
    "df_NY_deaths.to_csv(covid19Root + r'/NY Boroughs_Deaths.csv')"
   ]
  },
  {
   "cell_type": "code",
   "execution_count": null,
   "metadata": {},
   "outputs": [],
   "source": []
  }
 ],
 "metadata": {
  "kernelspec": {
   "display_name": "Python 3",
   "language": "python",
   "name": "python3"
  },
  "language_info": {
   "codemirror_mode": {
    "name": "ipython",
    "version": 3
   },
   "file_extension": ".py",
   "mimetype": "text/x-python",
   "name": "python",
   "nbconvert_exporter": "python",
   "pygments_lexer": "ipython3",
   "version": "3.7.7"
  }
 },
 "nbformat": 4,
 "nbformat_minor": 2
}
